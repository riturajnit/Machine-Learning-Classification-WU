{
 "cells": [
  {
   "cell_type": "code",
   "execution_count": 1,
   "id": "1217f579",
   "metadata": {},
   "outputs": [],
   "source": [
    "import pandas as pd\n",
    "import numpy as np"
   ]
  },
  {
   "cell_type": "code",
   "execution_count": 2,
   "id": "ed7c0b66",
   "metadata": {},
   "outputs": [],
   "source": [
    "loan = pd.read_csv('lending-club-data.csv', low_memory = False)"
   ]
  },
  {
   "cell_type": "code",
   "execution_count": 3,
   "id": "84498144",
   "metadata": {
    "scrolled": false
   },
   "outputs": [
    {
     "data": {
      "text/plain": [
       "Index(['id', 'member_id', 'loan_amnt', 'funded_amnt', 'funded_amnt_inv',\n",
       "       'term', 'int_rate', 'installment', 'grade', 'sub_grade', 'emp_title',\n",
       "       'emp_length', 'home_ownership', 'annual_inc', 'is_inc_v', 'issue_d',\n",
       "       'loan_status', 'pymnt_plan', 'url', 'desc', 'purpose', 'title',\n",
       "       'zip_code', 'addr_state', 'dti', 'delinq_2yrs', 'earliest_cr_line',\n",
       "       'inq_last_6mths', 'mths_since_last_delinq', 'mths_since_last_record',\n",
       "       'open_acc', 'pub_rec', 'revol_bal', 'revol_util', 'total_acc',\n",
       "       'initial_list_status', 'out_prncp', 'out_prncp_inv', 'total_pymnt',\n",
       "       'total_pymnt_inv', 'total_rec_prncp', 'total_rec_int',\n",
       "       'total_rec_late_fee', 'recoveries', 'collection_recovery_fee',\n",
       "       'last_pymnt_d', 'last_pymnt_amnt', 'next_pymnt_d', 'last_credit_pull_d',\n",
       "       'collections_12_mths_ex_med', 'mths_since_last_major_derog',\n",
       "       'policy_code', 'not_compliant', 'status', 'inactive_loans', 'bad_loans',\n",
       "       'emp_length_num', 'grade_num', 'sub_grade_num', 'delinq_2yrs_zero',\n",
       "       'pub_rec_zero', 'collections_12_mths_zero', 'short_emp',\n",
       "       'payment_inc_ratio', 'final_d', 'last_delinq_none', 'last_record_none',\n",
       "       'last_major_derog_none'],\n",
       "      dtype='object')"
      ]
     },
     "execution_count": 3,
     "metadata": {},
     "output_type": "execute_result"
    }
   ],
   "source": [
    "loan.columns"
   ]
  },
  {
   "cell_type": "code",
   "execution_count": 4,
   "id": "972363ea",
   "metadata": {
    "scrolled": true
   },
   "outputs": [
    {
     "data": {
      "text/html": [
       "<div>\n",
       "<style scoped>\n",
       "    .dataframe tbody tr th:only-of-type {\n",
       "        vertical-align: middle;\n",
       "    }\n",
       "\n",
       "    .dataframe tbody tr th {\n",
       "        vertical-align: top;\n",
       "    }\n",
       "\n",
       "    .dataframe thead th {\n",
       "        text-align: right;\n",
       "    }\n",
       "</style>\n",
       "<table border=\"1\" class=\"dataframe\">\n",
       "  <thead>\n",
       "    <tr style=\"text-align: right;\">\n",
       "      <th></th>\n",
       "      <th>id</th>\n",
       "      <th>member_id</th>\n",
       "      <th>loan_amnt</th>\n",
       "      <th>funded_amnt</th>\n",
       "      <th>funded_amnt_inv</th>\n",
       "      <th>term</th>\n",
       "      <th>int_rate</th>\n",
       "      <th>installment</th>\n",
       "      <th>grade</th>\n",
       "      <th>sub_grade</th>\n",
       "      <th>...</th>\n",
       "      <th>sub_grade_num</th>\n",
       "      <th>delinq_2yrs_zero</th>\n",
       "      <th>pub_rec_zero</th>\n",
       "      <th>collections_12_mths_zero</th>\n",
       "      <th>short_emp</th>\n",
       "      <th>payment_inc_ratio</th>\n",
       "      <th>final_d</th>\n",
       "      <th>last_delinq_none</th>\n",
       "      <th>last_record_none</th>\n",
       "      <th>last_major_derog_none</th>\n",
       "    </tr>\n",
       "  </thead>\n",
       "  <tbody>\n",
       "    <tr>\n",
       "      <th>0</th>\n",
       "      <td>1077501</td>\n",
       "      <td>1296599</td>\n",
       "      <td>5000</td>\n",
       "      <td>5000</td>\n",
       "      <td>4975</td>\n",
       "      <td>36 months</td>\n",
       "      <td>10.65</td>\n",
       "      <td>162.87</td>\n",
       "      <td>B</td>\n",
       "      <td>B2</td>\n",
       "      <td>...</td>\n",
       "      <td>0.4</td>\n",
       "      <td>1.0</td>\n",
       "      <td>1.0</td>\n",
       "      <td>1.0</td>\n",
       "      <td>0</td>\n",
       "      <td>8.14350</td>\n",
       "      <td>20141201T000000</td>\n",
       "      <td>1</td>\n",
       "      <td>1</td>\n",
       "      <td>1</td>\n",
       "    </tr>\n",
       "    <tr>\n",
       "      <th>1</th>\n",
       "      <td>1077430</td>\n",
       "      <td>1314167</td>\n",
       "      <td>2500</td>\n",
       "      <td>2500</td>\n",
       "      <td>2500</td>\n",
       "      <td>60 months</td>\n",
       "      <td>15.27</td>\n",
       "      <td>59.83</td>\n",
       "      <td>C</td>\n",
       "      <td>C4</td>\n",
       "      <td>...</td>\n",
       "      <td>0.8</td>\n",
       "      <td>1.0</td>\n",
       "      <td>1.0</td>\n",
       "      <td>1.0</td>\n",
       "      <td>1</td>\n",
       "      <td>2.39320</td>\n",
       "      <td>20161201T000000</td>\n",
       "      <td>1</td>\n",
       "      <td>1</td>\n",
       "      <td>1</td>\n",
       "    </tr>\n",
       "    <tr>\n",
       "      <th>2</th>\n",
       "      <td>1077175</td>\n",
       "      <td>1313524</td>\n",
       "      <td>2400</td>\n",
       "      <td>2400</td>\n",
       "      <td>2400</td>\n",
       "      <td>36 months</td>\n",
       "      <td>15.96</td>\n",
       "      <td>84.33</td>\n",
       "      <td>C</td>\n",
       "      <td>C5</td>\n",
       "      <td>...</td>\n",
       "      <td>1.0</td>\n",
       "      <td>1.0</td>\n",
       "      <td>1.0</td>\n",
       "      <td>1.0</td>\n",
       "      <td>0</td>\n",
       "      <td>8.25955</td>\n",
       "      <td>20141201T000000</td>\n",
       "      <td>1</td>\n",
       "      <td>1</td>\n",
       "      <td>1</td>\n",
       "    </tr>\n",
       "    <tr>\n",
       "      <th>3</th>\n",
       "      <td>1076863</td>\n",
       "      <td>1277178</td>\n",
       "      <td>10000</td>\n",
       "      <td>10000</td>\n",
       "      <td>10000</td>\n",
       "      <td>36 months</td>\n",
       "      <td>13.49</td>\n",
       "      <td>339.31</td>\n",
       "      <td>C</td>\n",
       "      <td>C1</td>\n",
       "      <td>...</td>\n",
       "      <td>0.2</td>\n",
       "      <td>1.0</td>\n",
       "      <td>1.0</td>\n",
       "      <td>1.0</td>\n",
       "      <td>0</td>\n",
       "      <td>8.27585</td>\n",
       "      <td>20141201T000000</td>\n",
       "      <td>0</td>\n",
       "      <td>1</td>\n",
       "      <td>1</td>\n",
       "    </tr>\n",
       "    <tr>\n",
       "      <th>4</th>\n",
       "      <td>1075269</td>\n",
       "      <td>1311441</td>\n",
       "      <td>5000</td>\n",
       "      <td>5000</td>\n",
       "      <td>5000</td>\n",
       "      <td>36 months</td>\n",
       "      <td>7.90</td>\n",
       "      <td>156.46</td>\n",
       "      <td>A</td>\n",
       "      <td>A4</td>\n",
       "      <td>...</td>\n",
       "      <td>0.8</td>\n",
       "      <td>1.0</td>\n",
       "      <td>1.0</td>\n",
       "      <td>1.0</td>\n",
       "      <td>0</td>\n",
       "      <td>5.21533</td>\n",
       "      <td>20141201T000000</td>\n",
       "      <td>1</td>\n",
       "      <td>1</td>\n",
       "      <td>1</td>\n",
       "    </tr>\n",
       "  </tbody>\n",
       "</table>\n",
       "<p>5 rows × 68 columns</p>\n",
       "</div>"
      ],
      "text/plain": [
       "        id  member_id  loan_amnt  funded_amnt  funded_amnt_inv        term  \\\n",
       "0  1077501    1296599       5000         5000             4975   36 months   \n",
       "1  1077430    1314167       2500         2500             2500   60 months   \n",
       "2  1077175    1313524       2400         2400             2400   36 months   \n",
       "3  1076863    1277178      10000        10000            10000   36 months   \n",
       "4  1075269    1311441       5000         5000             5000   36 months   \n",
       "\n",
       "   int_rate  installment grade sub_grade  ... sub_grade_num delinq_2yrs_zero  \\\n",
       "0     10.65       162.87     B        B2  ...           0.4              1.0   \n",
       "1     15.27        59.83     C        C4  ...           0.8              1.0   \n",
       "2     15.96        84.33     C        C5  ...           1.0              1.0   \n",
       "3     13.49       339.31     C        C1  ...           0.2              1.0   \n",
       "4      7.90       156.46     A        A4  ...           0.8              1.0   \n",
       "\n",
       "  pub_rec_zero  collections_12_mths_zero short_emp payment_inc_ratio  \\\n",
       "0          1.0                       1.0         0           8.14350   \n",
       "1          1.0                       1.0         1           2.39320   \n",
       "2          1.0                       1.0         0           8.25955   \n",
       "3          1.0                       1.0         0           8.27585   \n",
       "4          1.0                       1.0         0           5.21533   \n",
       "\n",
       "           final_d last_delinq_none last_record_none last_major_derog_none  \n",
       "0  20141201T000000                1                1                     1  \n",
       "1  20161201T000000                1                1                     1  \n",
       "2  20141201T000000                1                1                     1  \n",
       "3  20141201T000000                0                1                     1  \n",
       "4  20141201T000000                1                1                     1  \n",
       "\n",
       "[5 rows x 68 columns]"
      ]
     },
     "execution_count": 4,
     "metadata": {},
     "output_type": "execute_result"
    }
   ],
   "source": [
    "loan.head()"
   ]
  },
  {
   "cell_type": "code",
   "execution_count": 5,
   "id": "8cd82234",
   "metadata": {
    "scrolled": true
   },
   "outputs": [
    {
     "name": "stdout",
     "output_type": "stream",
     "text": [
      "<class 'pandas.core.frame.DataFrame'>\n",
      "RangeIndex: 122607 entries, 0 to 122606\n",
      "Data columns (total 68 columns):\n",
      " #   Column                       Non-Null Count   Dtype  \n",
      "---  ------                       --------------   -----  \n",
      " 0   id                           122607 non-null  int64  \n",
      " 1   member_id                    122607 non-null  int64  \n",
      " 2   loan_amnt                    122607 non-null  int64  \n",
      " 3   funded_amnt                  122607 non-null  int64  \n",
      " 4   funded_amnt_inv              122607 non-null  int64  \n",
      " 5   term                         122607 non-null  object \n",
      " 6   int_rate                     122607 non-null  float64\n",
      " 7   installment                  122607 non-null  float64\n",
      " 8   grade                        122607 non-null  object \n",
      " 9   sub_grade                    122607 non-null  object \n",
      " 10  emp_title                    115767 non-null  object \n",
      " 11  emp_length                   118516 non-null  object \n",
      " 12  home_ownership               122607 non-null  object \n",
      " 13  annual_inc                   122603 non-null  float64\n",
      " 14  is_inc_v                     122607 non-null  object \n",
      " 15  issue_d                      122607 non-null  object \n",
      " 16  loan_status                  122607 non-null  object \n",
      " 17  pymnt_plan                   122607 non-null  object \n",
      " 18  url                          122607 non-null  object \n",
      " 19  desc                         60705 non-null   object \n",
      " 20  purpose                      122607 non-null  object \n",
      " 21  title                        122596 non-null  object \n",
      " 22  zip_code                     122607 non-null  object \n",
      " 23  addr_state                   122607 non-null  object \n",
      " 24  dti                          122607 non-null  float64\n",
      " 25  delinq_2yrs                  122578 non-null  float64\n",
      " 26  earliest_cr_line             122578 non-null  object \n",
      " 27  inq_last_6mths               122578 non-null  float64\n",
      " 28  mths_since_last_delinq       50500 non-null   float64\n",
      " 29  mths_since_last_record       12531 non-null   float64\n",
      " 30  open_acc                     122578 non-null  float64\n",
      " 31  pub_rec                      122578 non-null  float64\n",
      " 32  revol_bal                    122607 non-null  int64  \n",
      " 33  revol_util                   122607 non-null  float64\n",
      " 34  total_acc                    122578 non-null  float64\n",
      " 35  initial_list_status          122607 non-null  object \n",
      " 36  out_prncp                    122607 non-null  float64\n",
      " 37  out_prncp_inv                122607 non-null  float64\n",
      " 38  total_pymnt                  122607 non-null  float64\n",
      " 39  total_pymnt_inv              122607 non-null  float64\n",
      " 40  total_rec_prncp              122607 non-null  float64\n",
      " 41  total_rec_int                122607 non-null  float64\n",
      " 42  total_rec_late_fee           122607 non-null  float64\n",
      " 43  recoveries                   122607 non-null  float64\n",
      " 44  collection_recovery_fee      122607 non-null  float64\n",
      " 45  last_pymnt_d                 122271 non-null  object \n",
      " 46  last_pymnt_amnt              122607 non-null  float64\n",
      " 47  next_pymnt_d                 2907 non-null    object \n",
      " 48  last_credit_pull_d           122601 non-null  object \n",
      " 49  collections_12_mths_ex_med   122462 non-null  float64\n",
      " 50  mths_since_last_major_derog  15460 non-null   float64\n",
      " 51  policy_code                  122607 non-null  int64  \n",
      " 52  not_compliant                122607 non-null  int64  \n",
      " 53  status                       122607 non-null  object \n",
      " 54  inactive_loans               122607 non-null  int64  \n",
      " 55  bad_loans                    122607 non-null  int64  \n",
      " 56  emp_length_num               122607 non-null  int64  \n",
      " 57  grade_num                    122607 non-null  int64  \n",
      " 58  sub_grade_num                122607 non-null  float64\n",
      " 59  delinq_2yrs_zero             122578 non-null  float64\n",
      " 60  pub_rec_zero                 122578 non-null  float64\n",
      " 61  collections_12_mths_zero     122462 non-null  float64\n",
      " 62  short_emp                    122607 non-null  int64  \n",
      " 63  payment_inc_ratio            122603 non-null  float64\n",
      " 64  final_d                      122607 non-null  object \n",
      " 65  last_delinq_none             122607 non-null  int64  \n",
      " 66  last_record_none             122607 non-null  int64  \n",
      " 67  last_major_derog_none        122607 non-null  int64  \n",
      "dtypes: float64(29), int64(16), object(23)\n",
      "memory usage: 63.6+ MB\n"
     ]
    }
   ],
   "source": [
    "loan.info()"
   ]
  },
  {
   "cell_type": "code",
   "execution_count": 6,
   "id": "e795ec81",
   "metadata": {},
   "outputs": [],
   "source": [
    "loan['safe_loans'] = loan['bad_loans'].apply(lambda x : +1 if x==0 else -1)"
   ]
  },
  {
   "cell_type": "code",
   "execution_count": 7,
   "id": "0068de56",
   "metadata": {
    "scrolled": true
   },
   "outputs": [],
   "source": [
    "loan.drop(['bad_loans'], axis = 1, inplace = True )"
   ]
  },
  {
   "cell_type": "code",
   "execution_count": 8,
   "id": "5601b996",
   "metadata": {},
   "outputs": [
    {
     "name": "stdout",
     "output_type": "stream",
     "text": [
      "122607\n"
     ]
    }
   ],
   "source": [
    "total_loans = len(loan)\n",
    "print(total_loans)"
   ]
  },
  {
   "cell_type": "code",
   "execution_count": 9,
   "id": "9b747cfd",
   "metadata": {},
   "outputs": [
    {
     "name": "stdout",
     "output_type": "stream",
     "text": [
      "99457\n"
     ]
    }
   ],
   "source": [
    "safe = len(loan[loan['safe_loans'] == 1])\n",
    "print(safe)"
   ]
  },
  {
   "cell_type": "code",
   "execution_count": 10,
   "id": "6b20ee0a",
   "metadata": {},
   "outputs": [
    {
     "name": "stdout",
     "output_type": "stream",
     "text": [
      "percentage of safe loans: 81\n"
     ]
    }
   ],
   "source": [
    "round(safe/total_loans*100)\n",
    "print('percentage of safe loans: {0}'.format(round(safe/total_loans*100)))"
   ]
  },
  {
   "cell_type": "code",
   "execution_count": 11,
   "id": "18d1880e",
   "metadata": {},
   "outputs": [
    {
     "name": "stdout",
     "output_type": "stream",
     "text": [
      "23150\n"
     ]
    }
   ],
   "source": [
    "risky = len(loan[loan['safe_loans'] == -1])\n",
    "print(risky)"
   ]
  },
  {
   "cell_type": "code",
   "execution_count": 12,
   "id": "e5465161",
   "metadata": {},
   "outputs": [
    {
     "name": "stdout",
     "output_type": "stream",
     "text": [
      "percentage of risky loans: 19\n"
     ]
    }
   ],
   "source": [
    "round(risky/total_loans*100)\n",
    "print('percentage of risky loans: {}'.format(round(risky/total_loans*100)))"
   ]
  },
  {
   "cell_type": "markdown",
   "id": "de7a432b",
   "metadata": {},
   "source": [
    "Extract the feature columns and target column"
   ]
  },
  {
   "cell_type": "code",
   "execution_count": 13,
   "id": "2dc3e83f",
   "metadata": {},
   "outputs": [],
   "source": [
    "features = ['grade',                     # grade of the loan\n",
    "            'sub_grade',                 # sub-grade of the loan\n",
    "            'short_emp',                 # one year or less of employment\n",
    "            'emp_length_num',            # number of years of employment\n",
    "            'home_ownership',            # home_ownership status: own, mortgage or rent\n",
    "            'dti',                       # debt to income ratio\n",
    "            'purpose',                   # the purpose of the loan\n",
    "            'term',                      # the term of the loan\n",
    "            'last_delinq_none',          # has borrower had a delinquincy\n",
    "            'last_major_derog_none',     # has borrower had 90 day or worse rating\n",
    "            'revol_util',                # percent of available credit being used\n",
    "            'total_rec_late_fee',        # total late fees received to day\n",
    "           ]"
   ]
  },
  {
   "cell_type": "code",
   "execution_count": 14,
   "id": "5395a926",
   "metadata": {},
   "outputs": [],
   "source": [
    "target = 'safe_loans'  "
   ]
  },
  {
   "cell_type": "code",
   "execution_count": 15,
   "id": "828caa3d",
   "metadata": {},
   "outputs": [],
   "source": [
    "loans = loan[features + [target]]"
   ]
  },
  {
   "cell_type": "code",
   "execution_count": 16,
   "id": "03b9fb96",
   "metadata": {
    "scrolled": false
   },
   "outputs": [
    {
     "data": {
      "text/html": [
       "<div>\n",
       "<style scoped>\n",
       "    .dataframe tbody tr th:only-of-type {\n",
       "        vertical-align: middle;\n",
       "    }\n",
       "\n",
       "    .dataframe tbody tr th {\n",
       "        vertical-align: top;\n",
       "    }\n",
       "\n",
       "    .dataframe thead th {\n",
       "        text-align: right;\n",
       "    }\n",
       "</style>\n",
       "<table border=\"1\" class=\"dataframe\">\n",
       "  <thead>\n",
       "    <tr style=\"text-align: right;\">\n",
       "      <th></th>\n",
       "      <th>grade</th>\n",
       "      <th>sub_grade</th>\n",
       "      <th>short_emp</th>\n",
       "      <th>emp_length_num</th>\n",
       "      <th>home_ownership</th>\n",
       "      <th>dti</th>\n",
       "      <th>purpose</th>\n",
       "      <th>term</th>\n",
       "      <th>last_delinq_none</th>\n",
       "      <th>last_major_derog_none</th>\n",
       "      <th>revol_util</th>\n",
       "      <th>total_rec_late_fee</th>\n",
       "      <th>safe_loans</th>\n",
       "    </tr>\n",
       "  </thead>\n",
       "  <tbody>\n",
       "    <tr>\n",
       "      <th>0</th>\n",
       "      <td>B</td>\n",
       "      <td>B2</td>\n",
       "      <td>0</td>\n",
       "      <td>11</td>\n",
       "      <td>RENT</td>\n",
       "      <td>27.65</td>\n",
       "      <td>credit_card</td>\n",
       "      <td>36 months</td>\n",
       "      <td>1</td>\n",
       "      <td>1</td>\n",
       "      <td>83.7</td>\n",
       "      <td>0.00</td>\n",
       "      <td>1</td>\n",
       "    </tr>\n",
       "    <tr>\n",
       "      <th>1</th>\n",
       "      <td>C</td>\n",
       "      <td>C4</td>\n",
       "      <td>1</td>\n",
       "      <td>1</td>\n",
       "      <td>RENT</td>\n",
       "      <td>1.00</td>\n",
       "      <td>car</td>\n",
       "      <td>60 months</td>\n",
       "      <td>1</td>\n",
       "      <td>1</td>\n",
       "      <td>9.4</td>\n",
       "      <td>0.00</td>\n",
       "      <td>-1</td>\n",
       "    </tr>\n",
       "    <tr>\n",
       "      <th>2</th>\n",
       "      <td>C</td>\n",
       "      <td>C5</td>\n",
       "      <td>0</td>\n",
       "      <td>11</td>\n",
       "      <td>RENT</td>\n",
       "      <td>8.72</td>\n",
       "      <td>small_business</td>\n",
       "      <td>36 months</td>\n",
       "      <td>1</td>\n",
       "      <td>1</td>\n",
       "      <td>98.5</td>\n",
       "      <td>0.00</td>\n",
       "      <td>1</td>\n",
       "    </tr>\n",
       "    <tr>\n",
       "      <th>3</th>\n",
       "      <td>C</td>\n",
       "      <td>C1</td>\n",
       "      <td>0</td>\n",
       "      <td>11</td>\n",
       "      <td>RENT</td>\n",
       "      <td>20.00</td>\n",
       "      <td>other</td>\n",
       "      <td>36 months</td>\n",
       "      <td>0</td>\n",
       "      <td>1</td>\n",
       "      <td>21.0</td>\n",
       "      <td>16.97</td>\n",
       "      <td>1</td>\n",
       "    </tr>\n",
       "    <tr>\n",
       "      <th>4</th>\n",
       "      <td>A</td>\n",
       "      <td>A4</td>\n",
       "      <td>0</td>\n",
       "      <td>4</td>\n",
       "      <td>RENT</td>\n",
       "      <td>11.20</td>\n",
       "      <td>wedding</td>\n",
       "      <td>36 months</td>\n",
       "      <td>1</td>\n",
       "      <td>1</td>\n",
       "      <td>28.3</td>\n",
       "      <td>0.00</td>\n",
       "      <td>1</td>\n",
       "    </tr>\n",
       "  </tbody>\n",
       "</table>\n",
       "</div>"
      ],
      "text/plain": [
       "  grade sub_grade  short_emp  emp_length_num home_ownership    dti  \\\n",
       "0     B        B2          0              11           RENT  27.65   \n",
       "1     C        C4          1               1           RENT   1.00   \n",
       "2     C        C5          0              11           RENT   8.72   \n",
       "3     C        C1          0              11           RENT  20.00   \n",
       "4     A        A4          0               4           RENT  11.20   \n",
       "\n",
       "          purpose        term  last_delinq_none  last_major_derog_none  \\\n",
       "0     credit_card   36 months                 1                      1   \n",
       "1             car   60 months                 1                      1   \n",
       "2  small_business   36 months                 1                      1   \n",
       "3           other   36 months                 0                      1   \n",
       "4         wedding   36 months                 1                      1   \n",
       "\n",
       "   revol_util  total_rec_late_fee  safe_loans  \n",
       "0        83.7                0.00           1  \n",
       "1         9.4                0.00          -1  \n",
       "2        98.5                0.00           1  \n",
       "3        21.0               16.97           1  \n",
       "4        28.3                0.00           1  "
      ]
     },
     "execution_count": 16,
     "metadata": {},
     "output_type": "execute_result"
    }
   ],
   "source": [
    "loans.head()"
   ]
  },
  {
   "cell_type": "markdown",
   "id": "cccb5da0",
   "metadata": {},
   "source": [
    "### One-hot encoding"
   ]
  },
  {
   "cell_type": "code",
   "execution_count": 17,
   "id": "be3c79d0",
   "metadata": {
    "scrolled": true
   },
   "outputs": [],
   "source": [
    "# from sklearn.preprocessing import OneHotEncoder\n",
    "# enc = OneHotEncoder()\n",
    "# # enc.fit_transform(loans_data[['grade']])\n",
    "# enc_df = pd.DataFrame(enc.fit_transform(loans_data[['grade']]).toarray())"
   ]
  },
  {
   "cell_type": "code",
   "execution_count": 18,
   "id": "7acbde88",
   "metadata": {},
   "outputs": [],
   "source": [
    "# enc.categories_"
   ]
  },
  {
   "cell_type": "code",
   "execution_count": 19,
   "id": "0345a141",
   "metadata": {
    "scrolled": true
   },
   "outputs": [],
   "source": [
    "# enc_df.head()"
   ]
  },
  {
   "cell_type": "code",
   "execution_count": 20,
   "id": "649bb3b6",
   "metadata": {},
   "outputs": [],
   "source": [
    "# dloans_data = loans_data.join(enc_df)"
   ]
  },
  {
   "cell_type": "code",
   "execution_count": 21,
   "id": "5be6fd36",
   "metadata": {},
   "outputs": [
    {
     "name": "stdout",
     "output_type": "stream",
     "text": [
      "['grade', 'sub_grade', 'home_ownership', 'purpose', 'term']\n"
     ]
    }
   ],
   "source": [
    "categorical_col = list(loans.select_dtypes('object').columns)\n",
    "print(categorical_col)"
   ]
  },
  {
   "cell_type": "code",
   "execution_count": 22,
   "id": "adb93853",
   "metadata": {},
   "outputs": [
    {
     "data": {
      "text/html": [
       "<div>\n",
       "<style scoped>\n",
       "    .dataframe tbody tr th:only-of-type {\n",
       "        vertical-align: middle;\n",
       "    }\n",
       "\n",
       "    .dataframe tbody tr th {\n",
       "        vertical-align: top;\n",
       "    }\n",
       "\n",
       "    .dataframe thead th {\n",
       "        text-align: right;\n",
       "    }\n",
       "</style>\n",
       "<table border=\"1\" class=\"dataframe\">\n",
       "  <thead>\n",
       "    <tr style=\"text-align: right;\">\n",
       "      <th></th>\n",
       "      <th>grade</th>\n",
       "      <th>sub_grade</th>\n",
       "      <th>short_emp</th>\n",
       "      <th>emp_length_num</th>\n",
       "      <th>home_ownership</th>\n",
       "      <th>dti</th>\n",
       "      <th>purpose</th>\n",
       "      <th>term</th>\n",
       "      <th>last_delinq_none</th>\n",
       "      <th>last_major_derog_none</th>\n",
       "      <th>revol_util</th>\n",
       "      <th>total_rec_late_fee</th>\n",
       "      <th>safe_loans</th>\n",
       "    </tr>\n",
       "  </thead>\n",
       "  <tbody>\n",
       "    <tr>\n",
       "      <th>0</th>\n",
       "      <td>B</td>\n",
       "      <td>B2</td>\n",
       "      <td>0</td>\n",
       "      <td>11</td>\n",
       "      <td>RENT</td>\n",
       "      <td>27.65</td>\n",
       "      <td>credit_card</td>\n",
       "      <td>36 months</td>\n",
       "      <td>1</td>\n",
       "      <td>1</td>\n",
       "      <td>83.7</td>\n",
       "      <td>0.00</td>\n",
       "      <td>1</td>\n",
       "    </tr>\n",
       "    <tr>\n",
       "      <th>1</th>\n",
       "      <td>C</td>\n",
       "      <td>C4</td>\n",
       "      <td>1</td>\n",
       "      <td>1</td>\n",
       "      <td>RENT</td>\n",
       "      <td>1.00</td>\n",
       "      <td>car</td>\n",
       "      <td>60 months</td>\n",
       "      <td>1</td>\n",
       "      <td>1</td>\n",
       "      <td>9.4</td>\n",
       "      <td>0.00</td>\n",
       "      <td>-1</td>\n",
       "    </tr>\n",
       "    <tr>\n",
       "      <th>2</th>\n",
       "      <td>C</td>\n",
       "      <td>C5</td>\n",
       "      <td>0</td>\n",
       "      <td>11</td>\n",
       "      <td>RENT</td>\n",
       "      <td>8.72</td>\n",
       "      <td>small_business</td>\n",
       "      <td>36 months</td>\n",
       "      <td>1</td>\n",
       "      <td>1</td>\n",
       "      <td>98.5</td>\n",
       "      <td>0.00</td>\n",
       "      <td>1</td>\n",
       "    </tr>\n",
       "    <tr>\n",
       "      <th>3</th>\n",
       "      <td>C</td>\n",
       "      <td>C1</td>\n",
       "      <td>0</td>\n",
       "      <td>11</td>\n",
       "      <td>RENT</td>\n",
       "      <td>20.00</td>\n",
       "      <td>other</td>\n",
       "      <td>36 months</td>\n",
       "      <td>0</td>\n",
       "      <td>1</td>\n",
       "      <td>21.0</td>\n",
       "      <td>16.97</td>\n",
       "      <td>1</td>\n",
       "    </tr>\n",
       "    <tr>\n",
       "      <th>4</th>\n",
       "      <td>A</td>\n",
       "      <td>A4</td>\n",
       "      <td>0</td>\n",
       "      <td>4</td>\n",
       "      <td>RENT</td>\n",
       "      <td>11.20</td>\n",
       "      <td>wedding</td>\n",
       "      <td>36 months</td>\n",
       "      <td>1</td>\n",
       "      <td>1</td>\n",
       "      <td>28.3</td>\n",
       "      <td>0.00</td>\n",
       "      <td>1</td>\n",
       "    </tr>\n",
       "    <tr>\n",
       "      <th>...</th>\n",
       "      <td>...</td>\n",
       "      <td>...</td>\n",
       "      <td>...</td>\n",
       "      <td>...</td>\n",
       "      <td>...</td>\n",
       "      <td>...</td>\n",
       "      <td>...</td>\n",
       "      <td>...</td>\n",
       "      <td>...</td>\n",
       "      <td>...</td>\n",
       "      <td>...</td>\n",
       "      <td>...</td>\n",
       "      <td>...</td>\n",
       "    </tr>\n",
       "    <tr>\n",
       "      <th>122602</th>\n",
       "      <td>E</td>\n",
       "      <td>E5</td>\n",
       "      <td>1</td>\n",
       "      <td>0</td>\n",
       "      <td>MORTGAGE</td>\n",
       "      <td>1.50</td>\n",
       "      <td>medical</td>\n",
       "      <td>60 months</td>\n",
       "      <td>0</td>\n",
       "      <td>0</td>\n",
       "      <td>14.6</td>\n",
       "      <td>0.00</td>\n",
       "      <td>-1</td>\n",
       "    </tr>\n",
       "    <tr>\n",
       "      <th>122603</th>\n",
       "      <td>D</td>\n",
       "      <td>D2</td>\n",
       "      <td>0</td>\n",
       "      <td>11</td>\n",
       "      <td>MORTGAGE</td>\n",
       "      <td>11.26</td>\n",
       "      <td>debt_consolidation</td>\n",
       "      <td>36 months</td>\n",
       "      <td>0</td>\n",
       "      <td>0</td>\n",
       "      <td>15.2</td>\n",
       "      <td>0.00</td>\n",
       "      <td>1</td>\n",
       "    </tr>\n",
       "    <tr>\n",
       "      <th>122604</th>\n",
       "      <td>D</td>\n",
       "      <td>D3</td>\n",
       "      <td>0</td>\n",
       "      <td>6</td>\n",
       "      <td>MORTGAGE</td>\n",
       "      <td>12.28</td>\n",
       "      <td>medical</td>\n",
       "      <td>60 months</td>\n",
       "      <td>0</td>\n",
       "      <td>0</td>\n",
       "      <td>10.7</td>\n",
       "      <td>0.00</td>\n",
       "      <td>-1</td>\n",
       "    </tr>\n",
       "    <tr>\n",
       "      <th>122605</th>\n",
       "      <td>D</td>\n",
       "      <td>D5</td>\n",
       "      <td>0</td>\n",
       "      <td>11</td>\n",
       "      <td>MORTGAGE</td>\n",
       "      <td>18.45</td>\n",
       "      <td>debt_consolidation</td>\n",
       "      <td>60 months</td>\n",
       "      <td>1</td>\n",
       "      <td>1</td>\n",
       "      <td>46.3</td>\n",
       "      <td>0.00</td>\n",
       "      <td>-1</td>\n",
       "    </tr>\n",
       "    <tr>\n",
       "      <th>122606</th>\n",
       "      <td>A</td>\n",
       "      <td>A4</td>\n",
       "      <td>0</td>\n",
       "      <td>4</td>\n",
       "      <td>OWN</td>\n",
       "      <td>5.39</td>\n",
       "      <td>credit_card</td>\n",
       "      <td>36 months</td>\n",
       "      <td>0</td>\n",
       "      <td>1</td>\n",
       "      <td>21.5</td>\n",
       "      <td>0.00</td>\n",
       "      <td>1</td>\n",
       "    </tr>\n",
       "  </tbody>\n",
       "</table>\n",
       "<p>122607 rows × 13 columns</p>\n",
       "</div>"
      ],
      "text/plain": [
       "       grade sub_grade  short_emp  emp_length_num home_ownership    dti  \\\n",
       "0          B        B2          0              11           RENT  27.65   \n",
       "1          C        C4          1               1           RENT   1.00   \n",
       "2          C        C5          0              11           RENT   8.72   \n",
       "3          C        C1          0              11           RENT  20.00   \n",
       "4          A        A4          0               4           RENT  11.20   \n",
       "...      ...       ...        ...             ...            ...    ...   \n",
       "122602     E        E5          1               0       MORTGAGE   1.50   \n",
       "122603     D        D2          0              11       MORTGAGE  11.26   \n",
       "122604     D        D3          0               6       MORTGAGE  12.28   \n",
       "122605     D        D5          0              11       MORTGAGE  18.45   \n",
       "122606     A        A4          0               4            OWN   5.39   \n",
       "\n",
       "                   purpose        term  last_delinq_none  \\\n",
       "0              credit_card   36 months                 1   \n",
       "1                      car   60 months                 1   \n",
       "2           small_business   36 months                 1   \n",
       "3                    other   36 months                 0   \n",
       "4                  wedding   36 months                 1   \n",
       "...                    ...         ...               ...   \n",
       "122602             medical   60 months                 0   \n",
       "122603  debt_consolidation   36 months                 0   \n",
       "122604             medical   60 months                 0   \n",
       "122605  debt_consolidation   60 months                 1   \n",
       "122606         credit_card   36 months                 0   \n",
       "\n",
       "        last_major_derog_none  revol_util  total_rec_late_fee  safe_loans  \n",
       "0                           1        83.7                0.00           1  \n",
       "1                           1         9.4                0.00          -1  \n",
       "2                           1        98.5                0.00           1  \n",
       "3                           1        21.0               16.97           1  \n",
       "4                           1        28.3                0.00           1  \n",
       "...                       ...         ...                 ...         ...  \n",
       "122602                      0        14.6                0.00          -1  \n",
       "122603                      0        15.2                0.00           1  \n",
       "122604                      0        10.7                0.00          -1  \n",
       "122605                      1        46.3                0.00          -1  \n",
       "122606                      1        21.5                0.00           1  \n",
       "\n",
       "[122607 rows x 13 columns]"
      ]
     },
     "execution_count": 22,
     "metadata": {},
     "output_type": "execute_result"
    }
   ],
   "source": [
    "loans"
   ]
  },
  {
   "cell_type": "code",
   "execution_count": 23,
   "id": "750def89",
   "metadata": {},
   "outputs": [
    {
     "data": {
      "text/html": [
       "<div>\n",
       "<style scoped>\n",
       "    .dataframe tbody tr th:only-of-type {\n",
       "        vertical-align: middle;\n",
       "    }\n",
       "\n",
       "    .dataframe tbody tr th {\n",
       "        vertical-align: top;\n",
       "    }\n",
       "\n",
       "    .dataframe thead th {\n",
       "        text-align: right;\n",
       "    }\n",
       "</style>\n",
       "<table border=\"1\" class=\"dataframe\">\n",
       "  <thead>\n",
       "    <tr style=\"text-align: right;\">\n",
       "      <th></th>\n",
       "      <th>grade_A</th>\n",
       "      <th>grade_B</th>\n",
       "      <th>grade_C</th>\n",
       "      <th>grade_D</th>\n",
       "      <th>grade_E</th>\n",
       "      <th>grade_F</th>\n",
       "      <th>grade_G</th>\n",
       "    </tr>\n",
       "  </thead>\n",
       "  <tbody>\n",
       "    <tr>\n",
       "      <th>0</th>\n",
       "      <td>0</td>\n",
       "      <td>1</td>\n",
       "      <td>0</td>\n",
       "      <td>0</td>\n",
       "      <td>0</td>\n",
       "      <td>0</td>\n",
       "      <td>0</td>\n",
       "    </tr>\n",
       "    <tr>\n",
       "      <th>1</th>\n",
       "      <td>0</td>\n",
       "      <td>0</td>\n",
       "      <td>1</td>\n",
       "      <td>0</td>\n",
       "      <td>0</td>\n",
       "      <td>0</td>\n",
       "      <td>0</td>\n",
       "    </tr>\n",
       "    <tr>\n",
       "      <th>2</th>\n",
       "      <td>0</td>\n",
       "      <td>0</td>\n",
       "      <td>1</td>\n",
       "      <td>0</td>\n",
       "      <td>0</td>\n",
       "      <td>0</td>\n",
       "      <td>0</td>\n",
       "    </tr>\n",
       "    <tr>\n",
       "      <th>3</th>\n",
       "      <td>0</td>\n",
       "      <td>0</td>\n",
       "      <td>1</td>\n",
       "      <td>0</td>\n",
       "      <td>0</td>\n",
       "      <td>0</td>\n",
       "      <td>0</td>\n",
       "    </tr>\n",
       "    <tr>\n",
       "      <th>4</th>\n",
       "      <td>1</td>\n",
       "      <td>0</td>\n",
       "      <td>0</td>\n",
       "      <td>0</td>\n",
       "      <td>0</td>\n",
       "      <td>0</td>\n",
       "      <td>0</td>\n",
       "    </tr>\n",
       "    <tr>\n",
       "      <th>...</th>\n",
       "      <td>...</td>\n",
       "      <td>...</td>\n",
       "      <td>...</td>\n",
       "      <td>...</td>\n",
       "      <td>...</td>\n",
       "      <td>...</td>\n",
       "      <td>...</td>\n",
       "    </tr>\n",
       "    <tr>\n",
       "      <th>122602</th>\n",
       "      <td>0</td>\n",
       "      <td>0</td>\n",
       "      <td>0</td>\n",
       "      <td>0</td>\n",
       "      <td>1</td>\n",
       "      <td>0</td>\n",
       "      <td>0</td>\n",
       "    </tr>\n",
       "    <tr>\n",
       "      <th>122603</th>\n",
       "      <td>0</td>\n",
       "      <td>0</td>\n",
       "      <td>0</td>\n",
       "      <td>1</td>\n",
       "      <td>0</td>\n",
       "      <td>0</td>\n",
       "      <td>0</td>\n",
       "    </tr>\n",
       "    <tr>\n",
       "      <th>122604</th>\n",
       "      <td>0</td>\n",
       "      <td>0</td>\n",
       "      <td>0</td>\n",
       "      <td>1</td>\n",
       "      <td>0</td>\n",
       "      <td>0</td>\n",
       "      <td>0</td>\n",
       "    </tr>\n",
       "    <tr>\n",
       "      <th>122605</th>\n",
       "      <td>0</td>\n",
       "      <td>0</td>\n",
       "      <td>0</td>\n",
       "      <td>1</td>\n",
       "      <td>0</td>\n",
       "      <td>0</td>\n",
       "      <td>0</td>\n",
       "    </tr>\n",
       "    <tr>\n",
       "      <th>122606</th>\n",
       "      <td>1</td>\n",
       "      <td>0</td>\n",
       "      <td>0</td>\n",
       "      <td>0</td>\n",
       "      <td>0</td>\n",
       "      <td>0</td>\n",
       "      <td>0</td>\n",
       "    </tr>\n",
       "  </tbody>\n",
       "</table>\n",
       "<p>122607 rows × 7 columns</p>\n",
       "</div>"
      ],
      "text/plain": [
       "        grade_A  grade_B  grade_C  grade_D  grade_E  grade_F  grade_G\n",
       "0             0        1        0        0        0        0        0\n",
       "1             0        0        1        0        0        0        0\n",
       "2             0        0        1        0        0        0        0\n",
       "3             0        0        1        0        0        0        0\n",
       "4             1        0        0        0        0        0        0\n",
       "...         ...      ...      ...      ...      ...      ...      ...\n",
       "122602        0        0        0        0        1        0        0\n",
       "122603        0        0        0        1        0        0        0\n",
       "122604        0        0        0        1        0        0        0\n",
       "122605        0        0        0        1        0        0        0\n",
       "122606        1        0        0        0        0        0        0\n",
       "\n",
       "[122607 rows x 7 columns]"
      ]
     },
     "execution_count": 23,
     "metadata": {},
     "output_type": "execute_result"
    }
   ],
   "source": [
    "d = pd.get_dummies(loans['grade'], prefix = 'grade')\n",
    "d"
   ]
  },
  {
   "cell_type": "code",
   "execution_count": 24,
   "id": "f08ae141",
   "metadata": {},
   "outputs": [],
   "source": [
    "for feature in categorical_col:\n",
    "    dummy = pd.get_dummies(loans[feature], prefix = feature)\n",
    "    loans = loans.join(dummy)\n",
    "    loans.drop(feature, axis = 1, inplace = True)"
   ]
  },
  {
   "cell_type": "code",
   "execution_count": 25,
   "id": "f83b99c4",
   "metadata": {},
   "outputs": [
    {
     "data": {
      "text/plain": [
       "Index(['short_emp', 'emp_length_num', 'dti', 'last_delinq_none',\n",
       "       'last_major_derog_none', 'revol_util', 'total_rec_late_fee',\n",
       "       'safe_loans', 'grade_A', 'grade_B', 'grade_C', 'grade_D', 'grade_E',\n",
       "       'grade_F', 'grade_G', 'sub_grade_A1', 'sub_grade_A2', 'sub_grade_A3',\n",
       "       'sub_grade_A4', 'sub_grade_A5', 'sub_grade_B1', 'sub_grade_B2',\n",
       "       'sub_grade_B3', 'sub_grade_B4', 'sub_grade_B5', 'sub_grade_C1',\n",
       "       'sub_grade_C2', 'sub_grade_C3', 'sub_grade_C4', 'sub_grade_C5',\n",
       "       'sub_grade_D1', 'sub_grade_D2', 'sub_grade_D3', 'sub_grade_D4',\n",
       "       'sub_grade_D5', 'sub_grade_E1', 'sub_grade_E2', 'sub_grade_E3',\n",
       "       'sub_grade_E4', 'sub_grade_E5', 'sub_grade_F1', 'sub_grade_F2',\n",
       "       'sub_grade_F3', 'sub_grade_F4', 'sub_grade_F5', 'sub_grade_G1',\n",
       "       'sub_grade_G2', 'sub_grade_G3', 'sub_grade_G4', 'sub_grade_G5',\n",
       "       'home_ownership_MORTGAGE', 'home_ownership_OTHER', 'home_ownership_OWN',\n",
       "       'home_ownership_RENT', 'purpose_car', 'purpose_credit_card',\n",
       "       'purpose_debt_consolidation', 'purpose_home_improvement',\n",
       "       'purpose_house', 'purpose_major_purchase', 'purpose_medical',\n",
       "       'purpose_moving', 'purpose_other', 'purpose_small_business',\n",
       "       'purpose_vacation', 'purpose_wedding', 'term_ 36 months',\n",
       "       'term_ 60 months'],\n",
       "      dtype='object')"
      ]
     },
     "execution_count": 25,
     "metadata": {},
     "output_type": "execute_result"
    }
   ],
   "source": [
    "loans.columns"
   ]
  },
  {
   "cell_type": "code",
   "execution_count": 26,
   "id": "2f490ece",
   "metadata": {},
   "outputs": [
    {
     "data": {
      "text/html": [
       "<div>\n",
       "<style scoped>\n",
       "    .dataframe tbody tr th:only-of-type {\n",
       "        vertical-align: middle;\n",
       "    }\n",
       "\n",
       "    .dataframe tbody tr th {\n",
       "        vertical-align: top;\n",
       "    }\n",
       "\n",
       "    .dataframe thead th {\n",
       "        text-align: right;\n",
       "    }\n",
       "</style>\n",
       "<table border=\"1\" class=\"dataframe\">\n",
       "  <thead>\n",
       "    <tr style=\"text-align: right;\">\n",
       "      <th></th>\n",
       "      <th>short_emp</th>\n",
       "      <th>emp_length_num</th>\n",
       "      <th>dti</th>\n",
       "      <th>last_delinq_none</th>\n",
       "      <th>last_major_derog_none</th>\n",
       "      <th>revol_util</th>\n",
       "      <th>total_rec_late_fee</th>\n",
       "      <th>safe_loans</th>\n",
       "      <th>grade_A</th>\n",
       "      <th>grade_B</th>\n",
       "      <th>...</th>\n",
       "      <th>purpose_house</th>\n",
       "      <th>purpose_major_purchase</th>\n",
       "      <th>purpose_medical</th>\n",
       "      <th>purpose_moving</th>\n",
       "      <th>purpose_other</th>\n",
       "      <th>purpose_small_business</th>\n",
       "      <th>purpose_vacation</th>\n",
       "      <th>purpose_wedding</th>\n",
       "      <th>term_ 36 months</th>\n",
       "      <th>term_ 60 months</th>\n",
       "    </tr>\n",
       "  </thead>\n",
       "  <tbody>\n",
       "    <tr>\n",
       "      <th>0</th>\n",
       "      <td>0</td>\n",
       "      <td>11</td>\n",
       "      <td>27.65</td>\n",
       "      <td>1</td>\n",
       "      <td>1</td>\n",
       "      <td>83.7</td>\n",
       "      <td>0.00</td>\n",
       "      <td>1</td>\n",
       "      <td>0</td>\n",
       "      <td>1</td>\n",
       "      <td>...</td>\n",
       "      <td>0</td>\n",
       "      <td>0</td>\n",
       "      <td>0</td>\n",
       "      <td>0</td>\n",
       "      <td>0</td>\n",
       "      <td>0</td>\n",
       "      <td>0</td>\n",
       "      <td>0</td>\n",
       "      <td>1</td>\n",
       "      <td>0</td>\n",
       "    </tr>\n",
       "    <tr>\n",
       "      <th>1</th>\n",
       "      <td>1</td>\n",
       "      <td>1</td>\n",
       "      <td>1.00</td>\n",
       "      <td>1</td>\n",
       "      <td>1</td>\n",
       "      <td>9.4</td>\n",
       "      <td>0.00</td>\n",
       "      <td>-1</td>\n",
       "      <td>0</td>\n",
       "      <td>0</td>\n",
       "      <td>...</td>\n",
       "      <td>0</td>\n",
       "      <td>0</td>\n",
       "      <td>0</td>\n",
       "      <td>0</td>\n",
       "      <td>0</td>\n",
       "      <td>0</td>\n",
       "      <td>0</td>\n",
       "      <td>0</td>\n",
       "      <td>0</td>\n",
       "      <td>1</td>\n",
       "    </tr>\n",
       "    <tr>\n",
       "      <th>2</th>\n",
       "      <td>0</td>\n",
       "      <td>11</td>\n",
       "      <td>8.72</td>\n",
       "      <td>1</td>\n",
       "      <td>1</td>\n",
       "      <td>98.5</td>\n",
       "      <td>0.00</td>\n",
       "      <td>1</td>\n",
       "      <td>0</td>\n",
       "      <td>0</td>\n",
       "      <td>...</td>\n",
       "      <td>0</td>\n",
       "      <td>0</td>\n",
       "      <td>0</td>\n",
       "      <td>0</td>\n",
       "      <td>0</td>\n",
       "      <td>1</td>\n",
       "      <td>0</td>\n",
       "      <td>0</td>\n",
       "      <td>1</td>\n",
       "      <td>0</td>\n",
       "    </tr>\n",
       "    <tr>\n",
       "      <th>3</th>\n",
       "      <td>0</td>\n",
       "      <td>11</td>\n",
       "      <td>20.00</td>\n",
       "      <td>0</td>\n",
       "      <td>1</td>\n",
       "      <td>21.0</td>\n",
       "      <td>16.97</td>\n",
       "      <td>1</td>\n",
       "      <td>0</td>\n",
       "      <td>0</td>\n",
       "      <td>...</td>\n",
       "      <td>0</td>\n",
       "      <td>0</td>\n",
       "      <td>0</td>\n",
       "      <td>0</td>\n",
       "      <td>1</td>\n",
       "      <td>0</td>\n",
       "      <td>0</td>\n",
       "      <td>0</td>\n",
       "      <td>1</td>\n",
       "      <td>0</td>\n",
       "    </tr>\n",
       "    <tr>\n",
       "      <th>4</th>\n",
       "      <td>0</td>\n",
       "      <td>4</td>\n",
       "      <td>11.20</td>\n",
       "      <td>1</td>\n",
       "      <td>1</td>\n",
       "      <td>28.3</td>\n",
       "      <td>0.00</td>\n",
       "      <td>1</td>\n",
       "      <td>1</td>\n",
       "      <td>0</td>\n",
       "      <td>...</td>\n",
       "      <td>0</td>\n",
       "      <td>0</td>\n",
       "      <td>0</td>\n",
       "      <td>0</td>\n",
       "      <td>0</td>\n",
       "      <td>0</td>\n",
       "      <td>0</td>\n",
       "      <td>1</td>\n",
       "      <td>1</td>\n",
       "      <td>0</td>\n",
       "    </tr>\n",
       "  </tbody>\n",
       "</table>\n",
       "<p>5 rows × 68 columns</p>\n",
       "</div>"
      ],
      "text/plain": [
       "   short_emp  emp_length_num    dti  last_delinq_none  last_major_derog_none  \\\n",
       "0          0              11  27.65                 1                      1   \n",
       "1          1               1   1.00                 1                      1   \n",
       "2          0              11   8.72                 1                      1   \n",
       "3          0              11  20.00                 0                      1   \n",
       "4          0               4  11.20                 1                      1   \n",
       "\n",
       "   revol_util  total_rec_late_fee  safe_loans  grade_A  grade_B  ...  \\\n",
       "0        83.7                0.00           1        0        1  ...   \n",
       "1         9.4                0.00          -1        0        0  ...   \n",
       "2        98.5                0.00           1        0        0  ...   \n",
       "3        21.0               16.97           1        0        0  ...   \n",
       "4        28.3                0.00           1        1        0  ...   \n",
       "\n",
       "   purpose_house  purpose_major_purchase  purpose_medical  purpose_moving  \\\n",
       "0              0                       0                0               0   \n",
       "1              0                       0                0               0   \n",
       "2              0                       0                0               0   \n",
       "3              0                       0                0               0   \n",
       "4              0                       0                0               0   \n",
       "\n",
       "   purpose_other  purpose_small_business  purpose_vacation  purpose_wedding  \\\n",
       "0              0                       0                 0                0   \n",
       "1              0                       0                 0                0   \n",
       "2              0                       1                 0                0   \n",
       "3              1                       0                 0                0   \n",
       "4              0                       0                 0                1   \n",
       "\n",
       "   term_ 36 months  term_ 60 months  \n",
       "0                1                0  \n",
       "1                0                1  \n",
       "2                1                0  \n",
       "3                1                0  \n",
       "4                1                0  \n",
       "\n",
       "[5 rows x 68 columns]"
      ]
     },
     "execution_count": 26,
     "metadata": {},
     "output_type": "execute_result"
    }
   ],
   "source": [
    "loans.head()"
   ]
  },
  {
   "cell_type": "code",
   "execution_count": 27,
   "id": "a9b609f6",
   "metadata": {},
   "outputs": [],
   "source": [
    "import json"
   ]
  },
  {
   "cell_type": "code",
   "execution_count": 28,
   "id": "1aa319b2",
   "metadata": {
    "scrolled": true
   },
   "outputs": [],
   "source": [
    "with open('module-5-assignment-1-train-idx.json') as file:\n",
    "    train_idx = json.load(file)"
   ]
  },
  {
   "cell_type": "code",
   "execution_count": 29,
   "id": "90fcbd83",
   "metadata": {},
   "outputs": [],
   "source": [
    "with open('module-5-assignment-1-validation-idx.json') as file:\n",
    "    validate_idx = json.load(file)"
   ]
  },
  {
   "cell_type": "code",
   "execution_count": 30,
   "id": "504a4c8f",
   "metadata": {},
   "outputs": [],
   "source": [
    "train_data = loans.iloc[train_idx]"
   ]
  },
  {
   "cell_type": "code",
   "execution_count": 31,
   "id": "12cde0f2",
   "metadata": {},
   "outputs": [],
   "source": [
    "validation_data = loans.iloc[validate_idx]"
   ]
  },
  {
   "cell_type": "code",
   "execution_count": 32,
   "id": "12bb43a6",
   "metadata": {
    "scrolled": true
   },
   "outputs": [
    {
     "data": {
      "text/html": [
       "<div>\n",
       "<style scoped>\n",
       "    .dataframe tbody tr th:only-of-type {\n",
       "        vertical-align: middle;\n",
       "    }\n",
       "\n",
       "    .dataframe tbody tr th {\n",
       "        vertical-align: top;\n",
       "    }\n",
       "\n",
       "    .dataframe thead th {\n",
       "        text-align: right;\n",
       "    }\n",
       "</style>\n",
       "<table border=\"1\" class=\"dataframe\">\n",
       "  <thead>\n",
       "    <tr style=\"text-align: right;\">\n",
       "      <th></th>\n",
       "      <th>short_emp</th>\n",
       "      <th>emp_length_num</th>\n",
       "      <th>dti</th>\n",
       "      <th>last_delinq_none</th>\n",
       "      <th>last_major_derog_none</th>\n",
       "      <th>revol_util</th>\n",
       "      <th>total_rec_late_fee</th>\n",
       "      <th>safe_loans</th>\n",
       "      <th>grade_A</th>\n",
       "      <th>grade_B</th>\n",
       "      <th>...</th>\n",
       "      <th>purpose_house</th>\n",
       "      <th>purpose_major_purchase</th>\n",
       "      <th>purpose_medical</th>\n",
       "      <th>purpose_moving</th>\n",
       "      <th>purpose_other</th>\n",
       "      <th>purpose_small_business</th>\n",
       "      <th>purpose_vacation</th>\n",
       "      <th>purpose_wedding</th>\n",
       "      <th>term_ 36 months</th>\n",
       "      <th>term_ 60 months</th>\n",
       "    </tr>\n",
       "  </thead>\n",
       "  <tbody>\n",
       "    <tr>\n",
       "      <th>1</th>\n",
       "      <td>1</td>\n",
       "      <td>1</td>\n",
       "      <td>1.00</td>\n",
       "      <td>1</td>\n",
       "      <td>1</td>\n",
       "      <td>9.4</td>\n",
       "      <td>0.0</td>\n",
       "      <td>-1</td>\n",
       "      <td>0</td>\n",
       "      <td>0</td>\n",
       "      <td>...</td>\n",
       "      <td>0</td>\n",
       "      <td>0</td>\n",
       "      <td>0</td>\n",
       "      <td>0</td>\n",
       "      <td>0</td>\n",
       "      <td>0</td>\n",
       "      <td>0</td>\n",
       "      <td>0</td>\n",
       "      <td>0</td>\n",
       "      <td>1</td>\n",
       "    </tr>\n",
       "    <tr>\n",
       "      <th>6</th>\n",
       "      <td>0</td>\n",
       "      <td>5</td>\n",
       "      <td>5.55</td>\n",
       "      <td>1</td>\n",
       "      <td>1</td>\n",
       "      <td>32.6</td>\n",
       "      <td>0.0</td>\n",
       "      <td>-1</td>\n",
       "      <td>0</td>\n",
       "      <td>0</td>\n",
       "      <td>...</td>\n",
       "      <td>0</td>\n",
       "      <td>0</td>\n",
       "      <td>0</td>\n",
       "      <td>0</td>\n",
       "      <td>0</td>\n",
       "      <td>1</td>\n",
       "      <td>0</td>\n",
       "      <td>0</td>\n",
       "      <td>0</td>\n",
       "      <td>1</td>\n",
       "    </tr>\n",
       "    <tr>\n",
       "      <th>7</th>\n",
       "      <td>1</td>\n",
       "      <td>1</td>\n",
       "      <td>18.08</td>\n",
       "      <td>1</td>\n",
       "      <td>1</td>\n",
       "      <td>36.5</td>\n",
       "      <td>0.0</td>\n",
       "      <td>-1</td>\n",
       "      <td>0</td>\n",
       "      <td>1</td>\n",
       "      <td>...</td>\n",
       "      <td>0</td>\n",
       "      <td>0</td>\n",
       "      <td>0</td>\n",
       "      <td>0</td>\n",
       "      <td>1</td>\n",
       "      <td>0</td>\n",
       "      <td>0</td>\n",
       "      <td>0</td>\n",
       "      <td>0</td>\n",
       "      <td>1</td>\n",
       "    </tr>\n",
       "    <tr>\n",
       "      <th>10</th>\n",
       "      <td>1</td>\n",
       "      <td>1</td>\n",
       "      <td>10.08</td>\n",
       "      <td>1</td>\n",
       "      <td>1</td>\n",
       "      <td>91.7</td>\n",
       "      <td>0.0</td>\n",
       "      <td>-1</td>\n",
       "      <td>0</td>\n",
       "      <td>0</td>\n",
       "      <td>...</td>\n",
       "      <td>0</td>\n",
       "      <td>0</td>\n",
       "      <td>0</td>\n",
       "      <td>0</td>\n",
       "      <td>0</td>\n",
       "      <td>0</td>\n",
       "      <td>0</td>\n",
       "      <td>0</td>\n",
       "      <td>1</td>\n",
       "      <td>0</td>\n",
       "    </tr>\n",
       "    <tr>\n",
       "      <th>12</th>\n",
       "      <td>0</td>\n",
       "      <td>4</td>\n",
       "      <td>7.06</td>\n",
       "      <td>1</td>\n",
       "      <td>1</td>\n",
       "      <td>55.5</td>\n",
       "      <td>0.0</td>\n",
       "      <td>-1</td>\n",
       "      <td>0</td>\n",
       "      <td>1</td>\n",
       "      <td>...</td>\n",
       "      <td>0</td>\n",
       "      <td>0</td>\n",
       "      <td>0</td>\n",
       "      <td>0</td>\n",
       "      <td>1</td>\n",
       "      <td>0</td>\n",
       "      <td>0</td>\n",
       "      <td>0</td>\n",
       "      <td>1</td>\n",
       "      <td>0</td>\n",
       "    </tr>\n",
       "  </tbody>\n",
       "</table>\n",
       "<p>5 rows × 68 columns</p>\n",
       "</div>"
      ],
      "text/plain": [
       "    short_emp  emp_length_num    dti  last_delinq_none  last_major_derog_none  \\\n",
       "1           1               1   1.00                 1                      1   \n",
       "6           0               5   5.55                 1                      1   \n",
       "7           1               1  18.08                 1                      1   \n",
       "10          1               1  10.08                 1                      1   \n",
       "12          0               4   7.06                 1                      1   \n",
       "\n",
       "    revol_util  total_rec_late_fee  safe_loans  grade_A  grade_B  ...  \\\n",
       "1          9.4                 0.0          -1        0        0  ...   \n",
       "6         32.6                 0.0          -1        0        0  ...   \n",
       "7         36.5                 0.0          -1        0        1  ...   \n",
       "10        91.7                 0.0          -1        0        0  ...   \n",
       "12        55.5                 0.0          -1        0        1  ...   \n",
       "\n",
       "    purpose_house  purpose_major_purchase  purpose_medical  purpose_moving  \\\n",
       "1               0                       0                0               0   \n",
       "6               0                       0                0               0   \n",
       "7               0                       0                0               0   \n",
       "10              0                       0                0               0   \n",
       "12              0                       0                0               0   \n",
       "\n",
       "    purpose_other  purpose_small_business  purpose_vacation  purpose_wedding  \\\n",
       "1               0                       0                 0                0   \n",
       "6               0                       1                 0                0   \n",
       "7               1                       0                 0                0   \n",
       "10              0                       0                 0                0   \n",
       "12              1                       0                 0                0   \n",
       "\n",
       "    term_ 36 months  term_ 60 months  \n",
       "1                 0                1  \n",
       "6                 0                1  \n",
       "7                 0                1  \n",
       "10                1                0  \n",
       "12                1                0  \n",
       "\n",
       "[5 rows x 68 columns]"
      ]
     },
     "execution_count": 32,
     "metadata": {},
     "output_type": "execute_result"
    }
   ],
   "source": [
    "train_data.head()"
   ]
  },
  {
   "cell_type": "code",
   "execution_count": 33,
   "id": "a225cfc5",
   "metadata": {},
   "outputs": [
    {
     "data": {
      "text/html": [
       "<div>\n",
       "<style scoped>\n",
       "    .dataframe tbody tr th:only-of-type {\n",
       "        vertical-align: middle;\n",
       "    }\n",
       "\n",
       "    .dataframe tbody tr th {\n",
       "        vertical-align: top;\n",
       "    }\n",
       "\n",
       "    .dataframe thead th {\n",
       "        text-align: right;\n",
       "    }\n",
       "</style>\n",
       "<table border=\"1\" class=\"dataframe\">\n",
       "  <thead>\n",
       "    <tr style=\"text-align: right;\">\n",
       "      <th></th>\n",
       "      <th>short_emp</th>\n",
       "      <th>emp_length_num</th>\n",
       "      <th>dti</th>\n",
       "      <th>last_delinq_none</th>\n",
       "      <th>last_major_derog_none</th>\n",
       "      <th>revol_util</th>\n",
       "      <th>total_rec_late_fee</th>\n",
       "      <th>safe_loans</th>\n",
       "      <th>grade_A</th>\n",
       "      <th>grade_B</th>\n",
       "      <th>...</th>\n",
       "      <th>purpose_house</th>\n",
       "      <th>purpose_major_purchase</th>\n",
       "      <th>purpose_medical</th>\n",
       "      <th>purpose_moving</th>\n",
       "      <th>purpose_other</th>\n",
       "      <th>purpose_small_business</th>\n",
       "      <th>purpose_vacation</th>\n",
       "      <th>purpose_wedding</th>\n",
       "      <th>term_ 36 months</th>\n",
       "      <th>term_ 60 months</th>\n",
       "    </tr>\n",
       "  </thead>\n",
       "  <tbody>\n",
       "    <tr>\n",
       "      <th>122390</th>\n",
       "      <td>0</td>\n",
       "      <td>11</td>\n",
       "      <td>19.76</td>\n",
       "      <td>0</td>\n",
       "      <td>1</td>\n",
       "      <td>70.1</td>\n",
       "      <td>0.0</td>\n",
       "      <td>1</td>\n",
       "      <td>0</td>\n",
       "      <td>0</td>\n",
       "      <td>...</td>\n",
       "      <td>0</td>\n",
       "      <td>0</td>\n",
       "      <td>0</td>\n",
       "      <td>0</td>\n",
       "      <td>0</td>\n",
       "      <td>0</td>\n",
       "      <td>0</td>\n",
       "      <td>0</td>\n",
       "      <td>0</td>\n",
       "      <td>1</td>\n",
       "    </tr>\n",
       "    <tr>\n",
       "      <th>122419</th>\n",
       "      <td>0</td>\n",
       "      <td>8</td>\n",
       "      <td>15.70</td>\n",
       "      <td>0</td>\n",
       "      <td>1</td>\n",
       "      <td>38.7</td>\n",
       "      <td>0.0</td>\n",
       "      <td>1</td>\n",
       "      <td>0</td>\n",
       "      <td>0</td>\n",
       "      <td>...</td>\n",
       "      <td>0</td>\n",
       "      <td>0</td>\n",
       "      <td>0</td>\n",
       "      <td>0</td>\n",
       "      <td>0</td>\n",
       "      <td>0</td>\n",
       "      <td>0</td>\n",
       "      <td>0</td>\n",
       "      <td>1</td>\n",
       "      <td>0</td>\n",
       "    </tr>\n",
       "    <tr>\n",
       "      <th>122445</th>\n",
       "      <td>1</td>\n",
       "      <td>1</td>\n",
       "      <td>7.56</td>\n",
       "      <td>1</td>\n",
       "      <td>1</td>\n",
       "      <td>55.3</td>\n",
       "      <td>0.0</td>\n",
       "      <td>1</td>\n",
       "      <td>0</td>\n",
       "      <td>0</td>\n",
       "      <td>...</td>\n",
       "      <td>0</td>\n",
       "      <td>1</td>\n",
       "      <td>0</td>\n",
       "      <td>0</td>\n",
       "      <td>0</td>\n",
       "      <td>0</td>\n",
       "      <td>0</td>\n",
       "      <td>0</td>\n",
       "      <td>1</td>\n",
       "      <td>0</td>\n",
       "    </tr>\n",
       "    <tr>\n",
       "      <th>122461</th>\n",
       "      <td>0</td>\n",
       "      <td>8</td>\n",
       "      <td>6.93</td>\n",
       "      <td>0</td>\n",
       "      <td>0</td>\n",
       "      <td>28.1</td>\n",
       "      <td>15.0</td>\n",
       "      <td>1</td>\n",
       "      <td>0</td>\n",
       "      <td>0</td>\n",
       "      <td>...</td>\n",
       "      <td>0</td>\n",
       "      <td>0</td>\n",
       "      <td>0</td>\n",
       "      <td>0</td>\n",
       "      <td>0</td>\n",
       "      <td>0</td>\n",
       "      <td>0</td>\n",
       "      <td>0</td>\n",
       "      <td>1</td>\n",
       "      <td>0</td>\n",
       "    </tr>\n",
       "    <tr>\n",
       "      <th>122480</th>\n",
       "      <td>1</td>\n",
       "      <td>0</td>\n",
       "      <td>4.00</td>\n",
       "      <td>1</td>\n",
       "      <td>1</td>\n",
       "      <td>13.5</td>\n",
       "      <td>0.0</td>\n",
       "      <td>1</td>\n",
       "      <td>1</td>\n",
       "      <td>0</td>\n",
       "      <td>...</td>\n",
       "      <td>0</td>\n",
       "      <td>0</td>\n",
       "      <td>0</td>\n",
       "      <td>0</td>\n",
       "      <td>0</td>\n",
       "      <td>0</td>\n",
       "      <td>0</td>\n",
       "      <td>0</td>\n",
       "      <td>1</td>\n",
       "      <td>0</td>\n",
       "    </tr>\n",
       "  </tbody>\n",
       "</table>\n",
       "<p>5 rows × 68 columns</p>\n",
       "</div>"
      ],
      "text/plain": [
       "        short_emp  emp_length_num    dti  last_delinq_none  \\\n",
       "122390          0              11  19.76                 0   \n",
       "122419          0               8  15.70                 0   \n",
       "122445          1               1   7.56                 1   \n",
       "122461          0               8   6.93                 0   \n",
       "122480          1               0   4.00                 1   \n",
       "\n",
       "        last_major_derog_none  revol_util  total_rec_late_fee  safe_loans  \\\n",
       "122390                      1        70.1                 0.0           1   \n",
       "122419                      1        38.7                 0.0           1   \n",
       "122445                      1        55.3                 0.0           1   \n",
       "122461                      0        28.1                15.0           1   \n",
       "122480                      1        13.5                 0.0           1   \n",
       "\n",
       "        grade_A  grade_B  ...  purpose_house  purpose_major_purchase  \\\n",
       "122390        0        0  ...              0                       0   \n",
       "122419        0        0  ...              0                       0   \n",
       "122445        0        0  ...              0                       1   \n",
       "122461        0        0  ...              0                       0   \n",
       "122480        1        0  ...              0                       0   \n",
       "\n",
       "        purpose_medical  purpose_moving  purpose_other  \\\n",
       "122390                0               0              0   \n",
       "122419                0               0              0   \n",
       "122445                0               0              0   \n",
       "122461                0               0              0   \n",
       "122480                0               0              0   \n",
       "\n",
       "        purpose_small_business  purpose_vacation  purpose_wedding  \\\n",
       "122390                       0                 0                0   \n",
       "122419                       0                 0                0   \n",
       "122445                       0                 0                0   \n",
       "122461                       0                 0                0   \n",
       "122480                       0                 0                0   \n",
       "\n",
       "        term_ 36 months  term_ 60 months  \n",
       "122390                0                1  \n",
       "122419                1                0  \n",
       "122445                1                0  \n",
       "122461                1                0  \n",
       "122480                1                0  \n",
       "\n",
       "[5 rows x 68 columns]"
      ]
     },
     "execution_count": 33,
     "metadata": {},
     "output_type": "execute_result"
    }
   ],
   "source": [
    "validation_data.tail()"
   ]
  },
  {
   "cell_type": "code",
   "execution_count": 34,
   "id": "07245936",
   "metadata": {},
   "outputs": [
    {
     "data": {
      "text/plain": [
       "1        -1\n",
       "6        -1\n",
       "7        -1\n",
       "10       -1\n",
       "12       -1\n",
       "         ..\n",
       "122572    1\n",
       "122575    1\n",
       "122588    1\n",
       "122599    1\n",
       "122603    1\n",
       "Name: safe_loans, Length: 37224, dtype: int64"
      ]
     },
     "execution_count": 34,
     "metadata": {},
     "output_type": "execute_result"
    }
   ],
   "source": [
    "train_data['safe_loans']"
   ]
  },
  {
   "cell_type": "code",
   "execution_count": 35,
   "id": "920ae6c4",
   "metadata": {},
   "outputs": [
    {
     "data": {
      "text/plain": [
       "37224"
      ]
     },
     "execution_count": 35,
     "metadata": {},
     "output_type": "execute_result"
    }
   ],
   "source": [
    "len(train_idx)"
   ]
  },
  {
   "cell_type": "code",
   "execution_count": 36,
   "id": "67d0262f",
   "metadata": {},
   "outputs": [
    {
     "data": {
      "text/plain": [
       "9284"
      ]
     },
     "execution_count": 36,
     "metadata": {},
     "output_type": "execute_result"
    }
   ],
   "source": [
    "len(validate_idx)"
   ]
  },
  {
   "cell_type": "code",
   "execution_count": 37,
   "id": "5279fe85",
   "metadata": {},
   "outputs": [
    {
     "data": {
      "text/plain": [
       "99457"
      ]
     },
     "execution_count": 37,
     "metadata": {},
     "output_type": "execute_result"
    }
   ],
   "source": [
    "len(loans[loans[target]==1])"
   ]
  },
  {
   "cell_type": "code",
   "execution_count": 38,
   "id": "9e8f401b",
   "metadata": {
    "scrolled": true
   },
   "outputs": [
    {
     "data": {
      "text/plain": [
       "23150"
      ]
     },
     "execution_count": 38,
     "metadata": {},
     "output_type": "execute_result"
    }
   ],
   "source": [
    "len(loans[loans[target]== -1])"
   ]
  },
  {
   "cell_type": "code",
   "execution_count": 39,
   "id": "8c51e159",
   "metadata": {},
   "outputs": [
    {
     "name": "stdout",
     "output_type": "stream",
     "text": [
      "number of safe loans: 99457\n",
      "number of risky loans: 23150\n"
     ]
    }
   ],
   "source": [
    "print(f'number of safe loans: {safe}')\n",
    "print(f'number of risky loans: {risky}')"
   ]
  },
  {
   "cell_type": "code",
   "execution_count": 40,
   "id": "c3c53d76",
   "metadata": {},
   "outputs": [
    {
     "name": "stdout",
     "output_type": "stream",
     "text": [
      "train data: (37224, 68)\n",
      "train data: (37224, 68)\n"
     ]
    }
   ],
   "source": [
    "print(f'train data: {train_data.shape}')\n",
    "print(f'train data: {train_data.shape}')"
   ]
  },
  {
   "cell_type": "markdown",
   "id": "228b1ca1",
   "metadata": {},
   "source": [
    "### Converting data into numpy array"
   ]
  },
  {
   "cell_type": "code",
   "execution_count": 41,
   "id": "79e1c761",
   "metadata": {},
   "outputs": [],
   "source": [
    "def get_numpy_data(dataframe, features, target):\n",
    "    dataframe.loc[:,'constant'] = 1\n",
    "    features = ['constant'] + features\n",
    "#     features_data = dataframe[features]\n",
    "    features_array = dataframe[features].to_numpy()\n",
    "#     target_data = dataframe[target]\n",
    "    target_array = dataframe[target].to_numpy()\n",
    "    return(features_array, target_array)"
   ]
  },
  {
   "cell_type": "code",
   "execution_count": 42,
   "id": "af7b94bd",
   "metadata": {},
   "outputs": [],
   "source": [
    "feature_list = list(loans.columns)\n",
    "feature_list.remove(target)"
   ]
  },
  {
   "cell_type": "code",
   "execution_count": 43,
   "id": "e5d07210",
   "metadata": {
    "scrolled": true
   },
   "outputs": [
    {
     "name": "stdout",
     "output_type": "stream",
     "text": [
      "['short_emp', 'emp_length_num', 'dti', 'last_delinq_none', 'last_major_derog_none', 'revol_util', 'total_rec_late_fee', 'grade_A', 'grade_B', 'grade_C', 'grade_D', 'grade_E', 'grade_F', 'grade_G', 'sub_grade_A1', 'sub_grade_A2', 'sub_grade_A3', 'sub_grade_A4', 'sub_grade_A5', 'sub_grade_B1', 'sub_grade_B2', 'sub_grade_B3', 'sub_grade_B4', 'sub_grade_B5', 'sub_grade_C1', 'sub_grade_C2', 'sub_grade_C3', 'sub_grade_C4', 'sub_grade_C5', 'sub_grade_D1', 'sub_grade_D2', 'sub_grade_D3', 'sub_grade_D4', 'sub_grade_D5', 'sub_grade_E1', 'sub_grade_E2', 'sub_grade_E3', 'sub_grade_E4', 'sub_grade_E5', 'sub_grade_F1', 'sub_grade_F2', 'sub_grade_F3', 'sub_grade_F4', 'sub_grade_F5', 'sub_grade_G1', 'sub_grade_G2', 'sub_grade_G3', 'sub_grade_G4', 'sub_grade_G5', 'home_ownership_MORTGAGE', 'home_ownership_OTHER', 'home_ownership_OWN', 'home_ownership_RENT', 'purpose_car', 'purpose_credit_card', 'purpose_debt_consolidation', 'purpose_home_improvement', 'purpose_house', 'purpose_major_purchase', 'purpose_medical', 'purpose_moving', 'purpose_other', 'purpose_small_business', 'purpose_vacation', 'purpose_wedding', 'term_ 36 months', 'term_ 60 months']\n"
     ]
    }
   ],
   "source": [
    "print(feature_list)"
   ]
  },
  {
   "cell_type": "code",
   "execution_count": 44,
   "id": "481e5bd1",
   "metadata": {},
   "outputs": [
    {
     "name": "stderr",
     "output_type": "stream",
     "text": [
      "c:\\users\\rituraj\\virtual-env\\lib\\site-packages\\pandas\\core\\indexing.py:1597: SettingWithCopyWarning: \n",
      "A value is trying to be set on a copy of a slice from a DataFrame.\n",
      "Try using .loc[row_indexer,col_indexer] = value instead\n",
      "\n",
      "See the caveats in the documentation: https://pandas.pydata.org/pandas-docs/stable/user_guide/indexing.html#returning-a-view-versus-a-copy\n",
      "  self.obj[key] = value\n",
      "c:\\users\\rituraj\\virtual-env\\lib\\site-packages\\pandas\\core\\indexing.py:1720: SettingWithCopyWarning: \n",
      "A value is trying to be set on a copy of a slice from a DataFrame.\n",
      "Try using .loc[row_indexer,col_indexer] = value instead\n",
      "\n",
      "See the caveats in the documentation: https://pandas.pydata.org/pandas-docs/stable/user_guide/indexing.html#returning-a-view-versus-a-copy\n",
      "  self._setitem_single_column(loc, value, pi)\n"
     ]
    }
   ],
   "source": [
    "train_features, train_target = get_numpy_data(train_data,feature_list, target )"
   ]
  },
  {
   "cell_type": "code",
   "execution_count": 45,
   "id": "89db9541",
   "metadata": {},
   "outputs": [
    {
     "data": {
      "text/plain": [
       "array([[ 1.,  1.,  1., ...,  0.,  0.,  1.],\n",
       "       [ 1.,  0.,  5., ...,  0.,  0.,  1.],\n",
       "       [ 1.,  1.,  1., ...,  0.,  0.,  1.],\n",
       "       ...,\n",
       "       [ 1.,  0.,  4., ...,  0.,  1.,  0.],\n",
       "       [ 1.,  0., 11., ...,  0.,  0.,  1.],\n",
       "       [ 1.,  0., 11., ...,  0.,  1.,  0.]])"
      ]
     },
     "execution_count": 45,
     "metadata": {},
     "output_type": "execute_result"
    }
   ],
   "source": [
    "train_features"
   ]
  },
  {
   "cell_type": "code",
   "execution_count": 46,
   "id": "728a7401",
   "metadata": {},
   "outputs": [
    {
     "data": {
      "text/plain": [
       "array([-1, -1, -1, ...,  1,  1,  1], dtype=int64)"
      ]
     },
     "execution_count": 46,
     "metadata": {},
     "output_type": "execute_result"
    }
   ],
   "source": [
    "train_target"
   ]
  },
  {
   "cell_type": "code",
   "execution_count": 47,
   "id": "d3701f31",
   "metadata": {},
   "outputs": [],
   "source": [
    "validation_features, validation_target = get_numpy_data(validation_data, feature_list, target)"
   ]
  },
  {
   "cell_type": "code",
   "execution_count": 48,
   "id": "9d0818b7",
   "metadata": {},
   "outputs": [
    {
     "data": {
      "text/plain": [
       "array([[ 1.,  0.,  3., ...,  0.,  0.,  1.],\n",
       "       [ 1.,  0., 11., ...,  0.,  1.,  0.],\n",
       "       [ 1.,  0.,  5., ...,  0.,  0.,  1.],\n",
       "       ...,\n",
       "       [ 1.,  1.,  1., ...,  0.,  1.,  0.],\n",
       "       [ 1.,  0.,  8., ...,  0.,  1.,  0.],\n",
       "       [ 1.,  1.,  0., ...,  0.,  1.,  0.]])"
      ]
     },
     "execution_count": 48,
     "metadata": {},
     "output_type": "execute_result"
    }
   ],
   "source": [
    "validation_features"
   ]
  },
  {
   "cell_type": "code",
   "execution_count": 49,
   "id": "d75accaa",
   "metadata": {},
   "outputs": [
    {
     "data": {
      "text/plain": [
       "array([-1, -1, -1, ...,  1,  1,  1], dtype=int64)"
      ]
     },
     "execution_count": 49,
     "metadata": {},
     "output_type": "execute_result"
    }
   ],
   "source": [
    "validation_target"
   ]
  },
  {
   "cell_type": "markdown",
   "id": "50053ec9",
   "metadata": {},
   "source": [
    "### Build a decision tree classifier"
   ]
  },
  {
   "cell_type": "code",
   "execution_count": 50,
   "id": "e41df2f9",
   "metadata": {},
   "outputs": [],
   "source": [
    "import sklearn.tree\n",
    "from sklearn.tree import DecisionTreeClassifier"
   ]
  },
  {
   "cell_type": "code",
   "execution_count": 51,
   "id": "08e4c1bd",
   "metadata": {},
   "outputs": [],
   "source": [
    "dtc = DecisionTreeClassifier(max_depth = 6)\n",
    "decision_tree_model = dtc.fit(train_features, train_target)"
   ]
  },
  {
   "cell_type": "code",
   "execution_count": 52,
   "id": "0e46dff1",
   "metadata": {},
   "outputs": [],
   "source": [
    "dtc_small = DecisionTreeClassifier(max_depth = 2)\n",
    "small_model  = dtc_small.fit(train_features, train_target)"
   ]
  },
  {
   "cell_type": "code",
   "execution_count": 53,
   "id": "70574aca",
   "metadata": {},
   "outputs": [],
   "source": [
    "import matplotlib.pyplot as plt"
   ]
  },
  {
   "cell_type": "code",
   "execution_count": 84,
   "id": "09a4a9d8",
   "metadata": {
    "scrolled": true
   },
   "outputs": [
    {
     "data": {
      "text/plain": [
       "[Text(1518.515625, 2019.0857142857144, 'X[8] <= 0.5\\ngini = 0.5\\nsamples = 37224\\nvalue = [18476, 18748]'),\n",
       " Text(817.3828125, 1708.457142857143, 'X[9] <= 0.5\\ngini = 0.497\\nsamples = 32094\\nvalue = [17218, 14876]'),\n",
       " Text(428.671875, 1397.8285714285716, 'X[7] <= 0.005\\ngini = 0.483\\nsamples = 21728\\nvalue = [12875, 8853]'),\n",
       " Text(232.5, 1087.2, 'X[10] <= 0.5\\ngini = 0.488\\nsamples = 20500\\nvalue = [11810, 8690]'),\n",
       " Text(116.25, 776.5714285714287, 'X[3] <= 18.205\\ngini = 0.465\\nsamples = 11559\\nvalue = [7302, 4257]'),\n",
       " Text(58.125, 465.9428571428573, 'X[67] <= 0.5\\ngini = 0.485\\nsamples = 6369\\nvalue = [3735, 2634]'),\n",
       " Text(29.0625, 155.3142857142857, 'gini = 0.497\\nsamples = 3498\\nvalue = [1876, 1622]'),\n",
       " Text(87.1875, 155.3142857142857, 'gini = 0.456\\nsamples = 2871\\nvalue = [1859, 1012]'),\n",
       " Text(174.375, 465.9428571428573, 'X[11] <= 0.5\\ngini = 0.43\\nsamples = 5190\\nvalue = [3567, 1623]'),\n",
       " Text(145.3125, 155.3142857142857, 'gini = 0.395\\nsamples = 2422\\nvalue = [1766, 656]'),\n",
       " Text(203.4375, 155.3142857142857, 'gini = 0.455\\nsamples = 2768\\nvalue = [1801, 967]'),\n",
       " Text(348.75, 776.5714285714287, 'X[3] <= 20.99\\ngini = 0.5\\nsamples = 8941\\nvalue = [4508, 4433]'),\n",
       " Text(290.625, 465.9428571428573, 'X[66] <= 0.5\\ngini = 0.498\\nsamples = 6343\\nvalue = [2961, 3382]'),\n",
       " Text(261.5625, 155.3142857142857, 'gini = 0.497\\nsamples = 1499\\nvalue = [810, 689]'),\n",
       " Text(319.6875, 155.3142857142857, 'gini = 0.494\\nsamples = 4844\\nvalue = [2151, 2693]'),\n",
       " Text(406.875, 465.9428571428573, 'X[3] <= 27.35\\ngini = 0.482\\nsamples = 2598\\nvalue = [1547, 1051]'),\n",
       " Text(377.8125, 155.3142857142857, 'gini = 0.489\\nsamples = 1788\\nvalue = [1025, 763]'),\n",
       " Text(435.9375, 155.3142857142857, 'gini = 0.458\\nsamples = 810\\nvalue = [522, 288]'),\n",
       " Text(624.84375, 1087.2, 'X[66] <= 0.5\\ngini = 0.23\\nsamples = 1228\\nvalue = [1065, 163]'),\n",
       " Text(552.1875, 776.5714285714287, 'X[3] <= 35.915\\ngini = 0.118\\nsamples = 412\\nvalue = [386, 26]'),\n",
       " Text(523.125, 465.9428571428573, 'X[6] <= 103.55\\ngini = 0.114\\nsamples = 411\\nvalue = [386, 25]'),\n",
       " Text(494.0625, 155.3142857142857, 'gini = 0.11\\nsamples = 409\\nvalue = [385, 24]'),\n",
       " Text(552.1875, 155.3142857142857, 'gini = 0.5\\nsamples = 2\\nvalue = [1, 1]'),\n",
       " Text(581.25, 465.9428571428573, 'gini = 0.0\\nsamples = 1\\nvalue = [0, 1]'),\n",
       " Text(697.5, 776.5714285714287, 'X[5] <= 0.5\\ngini = 0.279\\nsamples = 816\\nvalue = [679, 137]'),\n",
       " Text(639.375, 465.9428571428573, 'X[55] <= 0.5\\ngini = 0.057\\nsamples = 68\\nvalue = [66, 2]'),\n",
       " Text(610.3125, 155.3142857142857, 'gini = 0.0\\nsamples = 60\\nvalue = [60, 0]'),\n",
       " Text(668.4375, 155.3142857142857, 'gini = 0.375\\nsamples = 8\\nvalue = [6, 2]'),\n",
       " Text(755.625, 465.9428571428573, 'X[3] <= 13.66\\ngini = 0.296\\nsamples = 748\\nvalue = [613, 135]'),\n",
       " Text(726.5625, 155.3142857142857, 'gini = 0.352\\nsamples = 329\\nvalue = [254, 75]'),\n",
       " Text(784.6875, 155.3142857142857, 'gini = 0.245\\nsamples = 419\\nvalue = [359, 60]'),\n",
       " Text(1206.09375, 1397.8285714285716, 'X[7] <= 0.005\\ngini = 0.487\\nsamples = 10366\\nvalue = [4343, 6023]'),\n",
       " Text(1046.25, 1087.2, 'X[3] <= 17.235\\ngini = 0.482\\nsamples = 9977\\nvalue = [4029, 5948]'),\n",
       " Text(930.0, 776.5714285714287, 'X[67] <= 0.5\\ngini = 0.463\\nsamples = 5772\\nvalue = [2101, 3671]'),\n",
       " Text(871.875, 465.9428571428573, 'X[63] <= 0.5\\ngini = 0.454\\nsamples = 5156\\nvalue = [1793, 3363]'),\n",
       " Text(842.8125, 155.3142857142857, 'gini = 0.45\\nsamples = 5021\\nvalue = [1715, 3306]'),\n",
       " Text(900.9375, 155.3142857142857, 'gini = 0.488\\nsamples = 135\\nvalue = [78, 57]'),\n",
       " Text(988.125, 465.9428571428573, 'X[63] <= 0.5\\ngini = 0.5\\nsamples = 616\\nvalue = [308, 308]'),\n",
       " Text(959.0625, 155.3142857142857, 'gini = 0.499\\nsamples = 581\\nvalue = [279, 302]'),\n",
       " Text(1017.1875, 155.3142857142857, 'gini = 0.284\\nsamples = 35\\nvalue = [29, 6]'),\n",
       " Text(1162.5, 776.5714285714287, 'X[66] <= 0.5\\ngini = 0.497\\nsamples = 4205\\nvalue = [1928, 2277]'),\n",
       " Text(1104.375, 465.9428571428573, 'X[6] <= 45.15\\ngini = 0.476\\nsamples = 382\\nvalue = [233, 149]'),\n",
       " Text(1075.3125, 155.3142857142857, 'gini = 0.498\\nsamples = 205\\nvalue = [109, 96]'),\n",
       " Text(1133.4375, 155.3142857142857, 'gini = 0.42\\nsamples = 177\\nvalue = [124, 53]'),\n",
       " Text(1220.625, 465.9428571428573, 'X[3] <= 29.315\\ngini = 0.494\\nsamples = 3823\\nvalue = [1695, 2128]'),\n",
       " Text(1191.5625, 155.3142857142857, 'gini = 0.49\\nsamples = 3478\\nvalue = [1495, 1983]'),\n",
       " Text(1249.6875, 155.3142857142857, 'gini = 0.487\\nsamples = 345\\nvalue = [200, 145]'),\n",
       " Text(1365.9375, 1087.2, 'X[3] <= 0.19\\ngini = 0.311\\nsamples = 389\\nvalue = [314, 75]'),\n",
       " Text(1336.875, 776.5714285714287, 'gini = 0.0\\nsamples = 3\\nvalue = [0, 3]'),\n",
       " Text(1395.0, 776.5714285714287, 'X[6] <= 47.0\\ngini = 0.303\\nsamples = 386\\nvalue = [314, 72]'),\n",
       " Text(1336.875, 465.9428571428573, 'X[66] <= 0.5\\ngini = 0.36\\nsamples = 183\\nvalue = [140, 43]'),\n",
       " Text(1307.8125, 155.3142857142857, 'gini = 0.095\\nsamples = 40\\nvalue = [38, 2]'),\n",
       " Text(1365.9375, 155.3142857142857, 'gini = 0.409\\nsamples = 143\\nvalue = [102, 41]'),\n",
       " Text(1453.125, 465.9428571428573, 'X[3] <= 16.75\\ngini = 0.245\\nsamples = 203\\nvalue = [174, 29]'),\n",
       " Text(1424.0625, 155.3142857142857, 'gini = 0.33\\nsamples = 91\\nvalue = [72, 19]'),\n",
       " Text(1482.1875, 155.3142857142857, 'gini = 0.163\\nsamples = 112\\nvalue = [102, 10]'),\n",
       " Text(2219.6484375, 1708.457142857143, 'X[7] <= 14.83\\ngini = 0.37\\nsamples = 5130\\nvalue = [1258, 3872]'),\n",
       " Text(1910.859375, 1397.8285714285716, 'X[3] <= 16.435\\ngini = 0.355\\nsamples = 4987\\nvalue = [1153, 3834]'),\n",
       " Text(1729.21875, 1087.2, 'X[63] <= 0.5\\ngini = 0.309\\nsamples = 3271\\nvalue = [625, 2646]'),\n",
       " Text(1627.5, 776.5714285714287, 'X[6] <= 31.45\\ngini = 0.299\\nsamples = 3154\\nvalue = [578, 2576]'),\n",
       " Text(1569.375, 465.9428571428573, 'X[19] <= 0.5\\ngini = 0.254\\nsamples = 1726\\nvalue = [258, 1468]'),\n",
       " Text(1540.3125, 155.3142857142857, 'gini = 0.228\\nsamples = 1416\\nvalue = [186, 1230]'),\n",
       " Text(1598.4375, 155.3142857142857, 'gini = 0.357\\nsamples = 310\\nvalue = [72, 238]'),\n",
       " Text(1685.625, 465.9428571428573, 'X[6] <= 65.55\\ngini = 0.348\\nsamples = 1428\\nvalue = [320, 1108]'),\n",
       " Text(1656.5625, 155.3142857142857, 'gini = 0.329\\nsamples = 1140\\nvalue = [237, 903]'),\n",
       " Text(1714.6875, 155.3142857142857, 'gini = 0.41\\nsamples = 288\\nvalue = [83, 205]'),\n",
       " Text(1830.9375, 776.5714285714287, 'X[6] <= 58.6\\ngini = 0.481\\nsamples = 117\\nvalue = [47, 70]'),\n",
       " Text(1801.875, 465.9428571428573, 'X[3] <= 6.335\\ngini = 0.463\\nsamples = 110\\nvalue = [40, 70]'),\n",
       " Text(1772.8125, 155.3142857142857, 'gini = 0.385\\nsamples = 50\\nvalue = [13, 37]'),\n",
       " Text(1830.9375, 155.3142857142857, 'gini = 0.495\\nsamples = 60\\nvalue = [27, 33]'),\n",
       " Text(1860.0, 465.9428571428573, 'gini = 0.0\\nsamples = 7\\nvalue = [7, 0]'),\n",
       " Text(2092.5, 1087.2, 'X[3] <= 23.705\\ngini = 0.426\\nsamples = 1716\\nvalue = [528, 1188]'),\n",
       " Text(1976.25, 776.5714285714287, 'X[6] <= 52.45\\ngini = 0.402\\nsamples = 1215\\nvalue = [338, 877]'),\n",
       " Text(1918.125, 465.9428571428573, 'X[2] <= 0.5\\ngini = 0.37\\nsamples = 816\\nvalue = [200, 616]'),\n",
       " Text(1889.0625, 155.3142857142857, 'gini = 0.5\\nsamples = 43\\nvalue = [21, 22]'),\n",
       " Text(1947.1875, 155.3142857142857, 'gini = 0.356\\nsamples = 773\\nvalue = [179, 594]'),\n",
       " Text(2034.375, 465.9428571428573, 'X[6] <= 52.65\\ngini = 0.452\\nsamples = 399\\nvalue = [138, 261]'),\n",
       " Text(2005.3125, 155.3142857142857, 'gini = 0.0\\nsamples = 3\\nvalue = [3, 0]'),\n",
       " Text(2063.4375, 155.3142857142857, 'gini = 0.449\\nsamples = 396\\nvalue = [135, 261]'),\n",
       " Text(2208.75, 776.5714285714287, 'X[6] <= 85.5\\ngini = 0.471\\nsamples = 501\\nvalue = [190, 311]'),\n",
       " Text(2150.625, 465.9428571428573, 'X[67] <= 0.5\\ngini = 0.466\\nsamples = 490\\nvalue = [181, 309]'),\n",
       " Text(2121.5625, 155.3142857142857, 'gini = 0.461\\nsamples = 482\\nvalue = [174, 308]'),\n",
       " Text(2179.6875, 155.3142857142857, 'gini = 0.219\\nsamples = 8\\nvalue = [7, 1]'),\n",
       " Text(2266.875, 465.9428571428573, 'X[6] <= 96.65\\ngini = 0.298\\nsamples = 11\\nvalue = [9, 2]'),\n",
       " Text(2237.8125, 155.3142857142857, 'gini = 0.18\\nsamples = 10\\nvalue = [9, 1]'),\n",
       " Text(2295.9375, 155.3142857142857, 'gini = 0.0\\nsamples = 1\\nvalue = [0, 1]'),\n",
       " Text(2528.4375, 1397.8285714285716, 'X[6] <= 0.55\\ngini = 0.39\\nsamples = 143\\nvalue = [105, 38]'),\n",
       " Text(2499.375, 1087.2, 'gini = 0.0\\nsamples = 3\\nvalue = [0, 3]'),\n",
       " Text(2557.5, 1087.2, 'X[3] <= 5.485\\ngini = 0.375\\nsamples = 140\\nvalue = [105, 35]'),\n",
       " Text(2441.25, 776.5714285714287, 'X[3] <= 3.81\\ngini = 0.492\\nsamples = 32\\nvalue = [18, 14]'),\n",
       " Text(2383.125, 465.9428571428573, 'X[7] <= 14.992\\ngini = 0.386\\nsamples = 23\\nvalue = [17, 6]'),\n",
       " Text(2354.0625, 155.3142857142857, 'gini = 0.153\\nsamples = 12\\nvalue = [11, 1]'),\n",
       " Text(2412.1875, 155.3142857142857, 'gini = 0.496\\nsamples = 11\\nvalue = [6, 5]'),\n",
       " Text(2499.375, 465.9428571428573, 'X[6] <= 6.75\\ngini = 0.198\\nsamples = 9\\nvalue = [1, 8]'),\n",
       " Text(2470.3125, 155.3142857142857, 'gini = 0.5\\nsamples = 2\\nvalue = [1, 1]'),\n",
       " Text(2528.4375, 155.3142857142857, 'gini = 0.0\\nsamples = 7\\nvalue = [0, 7]'),\n",
       " Text(2673.75, 776.5714285714287, 'X[17] <= 0.5\\ngini = 0.313\\nsamples = 108\\nvalue = [87, 21]'),\n",
       " Text(2615.625, 465.9428571428573, 'X[6] <= 84.75\\ngini = 0.268\\nsamples = 94\\nvalue = [79, 15]'),\n",
       " Text(2586.5625, 155.3142857142857, 'gini = 0.245\\nsamples = 91\\nvalue = [78, 13]'),\n",
       " Text(2644.6875, 155.3142857142857, 'gini = 0.444\\nsamples = 3\\nvalue = [1, 2]'),\n",
       " Text(2731.875, 465.9428571428573, 'X[2] <= 10.5\\ngini = 0.49\\nsamples = 14\\nvalue = [8, 6]'),\n",
       " Text(2702.8125, 155.3142857142857, 'gini = 0.397\\nsamples = 11\\nvalue = [8, 3]'),\n",
       " Text(2760.9375, 155.3142857142857, 'gini = 0.0\\nsamples = 3\\nvalue = [0, 3]')]"
      ]
     },
     "execution_count": 84,
     "metadata": {},
     "output_type": "execute_result"
    },
    {
     "data": {
      "image/png": "[encoded data removed]",
      "text/plain": [
       "<Figure size 3600x2880 with 1 Axes>"
      ]
     },
     "metadata": {
      "needs_background": "light"
     },
     "output_type": "display_data"
    }
   ],
   "source": [
    "fig = plt.figure(figsize = (50,40))\n",
    "sklearn.tree.plot_tree(decision_tree_model, filled=True)"
   ]
  },
  {
   "cell_type": "code",
   "execution_count": 58,
   "id": "8c33a09a",
   "metadata": {},
   "outputs": [
    {
     "data": {
      "text/plain": [
       "[Text(697.5, 906.0, 'grade_B <= 0.5\\ngini = 0.5\\nsamples = 37224\\nvalue = [18476, 18748]'),\n",
       " Text(348.75, 543.6, 'grade_C <= 0.5\\ngini = 0.497\\nsamples = 32094\\nvalue = [17218, 14876]'),\n",
       " Text(174.375, 181.19999999999993, 'gini = 0.483\\nsamples = 21728\\nvalue = [12875, 8853]'),\n",
       " Text(523.125, 181.19999999999993, 'gini = 0.487\\nsamples = 10366\\nvalue = [4343, 6023]'),\n",
       " Text(1046.25, 543.6, 'grade_A <= 14.83\\ngini = 0.37\\nsamples = 5130\\nvalue = [1258, 3872]'),\n",
       " Text(871.875, 181.19999999999993, 'gini = 0.355\\nsamples = 4987\\nvalue = [1153, 3834]'),\n",
       " Text(1220.625, 181.19999999999993, 'gini = 0.39\\nsamples = 143\\nvalue = [105, 38]')]"
      ]
     },
     "execution_count": 58,
     "metadata": {},
     "output_type": "execute_result"
    },
    {
     "data": {
      "image/png": "[encoded data removed]",
      "text/plain": [
       "<Figure size 1800x1440 with 1 Axes>"
      ]
     },
     "metadata": {
      "needs_background": "light"
     },
     "output_type": "display_data"
    }
   ],
   "source": [
    "fig = plt.figure(figsize = (25,20))\n",
    "sklearn.tree.plot_tree(small_model, feature_names= feature_list, filled=True)"
   ]
  },
  {
   "cell_type": "markdown",
   "id": "8e3f2106",
   "metadata": {},
   "source": [
    "### Making predictions"
   ]
  },
  {
   "cell_type": "markdown",
   "id": "d587b085",
   "metadata": {},
   "source": [
    "Let's consider two positive and two negative examples from the validation set and see what the model predicts. We will do the following:\n",
    "\n",
    "Predict whether or not a loan is safe.\n",
    "\n",
    "Predict the probability that a loan is safe."
   ]
  },
  {
   "cell_type": "markdown",
   "id": "de2ebcd1",
   "metadata": {},
   "source": [
    "First, let's grab 2 positive examples and 2 negative examples."
   ]
  },
  {
   "cell_type": "code",
   "execution_count": 59,
   "id": "b3c55aa4",
   "metadata": {},
   "outputs": [
    {
     "data": {
      "text/html": [
       "<div>\n",
       "<style scoped>\n",
       "    .dataframe tbody tr th:only-of-type {\n",
       "        vertical-align: middle;\n",
       "    }\n",
       "\n",
       "    .dataframe tbody tr th {\n",
       "        vertical-align: top;\n",
       "    }\n",
       "\n",
       "    .dataframe thead th {\n",
       "        text-align: right;\n",
       "    }\n",
       "</style>\n",
       "<table border=\"1\" class=\"dataframe\">\n",
       "  <thead>\n",
       "    <tr style=\"text-align: right;\">\n",
       "      <th></th>\n",
       "      <th>short_emp</th>\n",
       "      <th>emp_length_num</th>\n",
       "      <th>dti</th>\n",
       "      <th>last_delinq_none</th>\n",
       "      <th>last_major_derog_none</th>\n",
       "      <th>revol_util</th>\n",
       "      <th>total_rec_late_fee</th>\n",
       "      <th>safe_loans</th>\n",
       "      <th>grade_A</th>\n",
       "      <th>grade_B</th>\n",
       "      <th>...</th>\n",
       "      <th>purpose_major_purchase</th>\n",
       "      <th>purpose_medical</th>\n",
       "      <th>purpose_moving</th>\n",
       "      <th>purpose_other</th>\n",
       "      <th>purpose_small_business</th>\n",
       "      <th>purpose_vacation</th>\n",
       "      <th>purpose_wedding</th>\n",
       "      <th>term_ 36 months</th>\n",
       "      <th>term_ 60 months</th>\n",
       "      <th>constant</th>\n",
       "    </tr>\n",
       "  </thead>\n",
       "  <tbody>\n",
       "    <tr>\n",
       "      <th>19</th>\n",
       "      <td>0</td>\n",
       "      <td>11</td>\n",
       "      <td>11.18</td>\n",
       "      <td>1</td>\n",
       "      <td>1</td>\n",
       "      <td>82.4</td>\n",
       "      <td>0.0</td>\n",
       "      <td>1</td>\n",
       "      <td>0</td>\n",
       "      <td>1</td>\n",
       "      <td>...</td>\n",
       "      <td>0</td>\n",
       "      <td>0</td>\n",
       "      <td>0</td>\n",
       "      <td>0</td>\n",
       "      <td>0</td>\n",
       "      <td>0</td>\n",
       "      <td>0</td>\n",
       "      <td>1</td>\n",
       "      <td>0</td>\n",
       "      <td>1</td>\n",
       "    </tr>\n",
       "    <tr>\n",
       "      <th>79</th>\n",
       "      <td>0</td>\n",
       "      <td>10</td>\n",
       "      <td>16.85</td>\n",
       "      <td>1</td>\n",
       "      <td>1</td>\n",
       "      <td>96.4</td>\n",
       "      <td>0.0</td>\n",
       "      <td>1</td>\n",
       "      <td>0</td>\n",
       "      <td>0</td>\n",
       "      <td>...</td>\n",
       "      <td>0</td>\n",
       "      <td>0</td>\n",
       "      <td>0</td>\n",
       "      <td>0</td>\n",
       "      <td>0</td>\n",
       "      <td>0</td>\n",
       "      <td>0</td>\n",
       "      <td>1</td>\n",
       "      <td>0</td>\n",
       "      <td>1</td>\n",
       "    </tr>\n",
       "    <tr>\n",
       "      <th>24</th>\n",
       "      <td>0</td>\n",
       "      <td>3</td>\n",
       "      <td>13.97</td>\n",
       "      <td>0</td>\n",
       "      <td>1</td>\n",
       "      <td>59.5</td>\n",
       "      <td>0.0</td>\n",
       "      <td>-1</td>\n",
       "      <td>0</td>\n",
       "      <td>0</td>\n",
       "      <td>...</td>\n",
       "      <td>0</td>\n",
       "      <td>0</td>\n",
       "      <td>0</td>\n",
       "      <td>1</td>\n",
       "      <td>0</td>\n",
       "      <td>0</td>\n",
       "      <td>0</td>\n",
       "      <td>0</td>\n",
       "      <td>1</td>\n",
       "      <td>1</td>\n",
       "    </tr>\n",
       "    <tr>\n",
       "      <th>41</th>\n",
       "      <td>0</td>\n",
       "      <td>11</td>\n",
       "      <td>16.33</td>\n",
       "      <td>1</td>\n",
       "      <td>1</td>\n",
       "      <td>62.1</td>\n",
       "      <td>0.0</td>\n",
       "      <td>-1</td>\n",
       "      <td>1</td>\n",
       "      <td>0</td>\n",
       "      <td>...</td>\n",
       "      <td>0</td>\n",
       "      <td>0</td>\n",
       "      <td>0</td>\n",
       "      <td>0</td>\n",
       "      <td>0</td>\n",
       "      <td>0</td>\n",
       "      <td>0</td>\n",
       "      <td>1</td>\n",
       "      <td>0</td>\n",
       "      <td>1</td>\n",
       "    </tr>\n",
       "  </tbody>\n",
       "</table>\n",
       "<p>4 rows × 69 columns</p>\n",
       "</div>"
      ],
      "text/plain": [
       "    short_emp  emp_length_num    dti  last_delinq_none  last_major_derog_none  \\\n",
       "19          0              11  11.18                 1                      1   \n",
       "79          0              10  16.85                 1                      1   \n",
       "24          0               3  13.97                 0                      1   \n",
       "41          0              11  16.33                 1                      1   \n",
       "\n",
       "    revol_util  total_rec_late_fee  safe_loans  grade_A  grade_B  ...  \\\n",
       "19        82.4                 0.0           1        0        1  ...   \n",
       "79        96.4                 0.0           1        0        0  ...   \n",
       "24        59.5                 0.0          -1        0        0  ...   \n",
       "41        62.1                 0.0          -1        1        0  ...   \n",
       "\n",
       "    purpose_major_purchase  purpose_medical  purpose_moving  purpose_other  \\\n",
       "19                       0                0               0              0   \n",
       "79                       0                0               0              0   \n",
       "24                       0                0               0              1   \n",
       "41                       0                0               0              0   \n",
       "\n",
       "    purpose_small_business  purpose_vacation  purpose_wedding  \\\n",
       "19                       0                 0                0   \n",
       "79                       0                 0                0   \n",
       "24                       0                 0                0   \n",
       "41                       0                 0                0   \n",
       "\n",
       "    term_ 36 months  term_ 60 months  constant  \n",
       "19                1                0         1  \n",
       "79                1                0         1  \n",
       "24                0                1         1  \n",
       "41                1                0         1  \n",
       "\n",
       "[4 rows x 69 columns]"
      ]
     },
     "execution_count": 59,
     "metadata": {},
     "output_type": "execute_result"
    }
   ],
   "source": [
    "validation_safe_loans = validation_data[validation_data[target] == 1]\n",
    "validation_risky_loans = validation_data[validation_data[target] == -1]\n",
    "\n",
    "sample_validation_data_risky = validation_risky_loans[0:2]\n",
    "sample_validation_data_safe = validation_safe_loans[0:2]\n",
    "\n",
    "sample_validation_data = sample_validation_data_safe.append(sample_validation_data_risky)\n",
    "sample_validation_data"
   ]
  },
  {
   "cell_type": "code",
   "execution_count": 60,
   "id": "45525050",
   "metadata": {},
   "outputs": [
    {
     "data": {
      "text/plain": [
       "19    1\n",
       "79    1\n",
       "24   -1\n",
       "41   -1\n",
       "Name: safe_loans, dtype: int64"
      ]
     },
     "execution_count": 60,
     "metadata": {},
     "output_type": "execute_result"
    }
   ],
   "source": [
    "sample_validation_data[target]"
   ]
  },
  {
   "cell_type": "code",
   "execution_count": 61,
   "id": "90db6c61",
   "metadata": {},
   "outputs": [],
   "source": [
    "sample_validation_features, sample_validation_target = get_numpy_data(sample_validation_data, feature_list, target)"
   ]
  },
  {
   "cell_type": "code",
   "execution_count": 62,
   "id": "3276ac92",
   "metadata": {},
   "outputs": [
    {
     "data": {
      "text/plain": [
       "array([ 1,  1, -1, -1], dtype=int64)"
      ]
     },
     "execution_count": 62,
     "metadata": {},
     "output_type": "execute_result"
    }
   ],
   "source": [
    "sample_validation_target"
   ]
  },
  {
   "cell_type": "code",
   "execution_count": 63,
   "id": "56b9f121",
   "metadata": {
    "scrolled": true
   },
   "outputs": [
    {
     "data": {
      "text/plain": [
       "array([[ 1.  ,  0.  , 11.  , 11.18,  1.  ,  1.  , 82.4 ,  0.  ,  0.  ,\n",
       "         1.  ,  0.  ,  0.  ,  0.  ,  0.  ,  0.  ,  0.  ,  0.  ,  0.  ,\n",
       "         0.  ,  0.  ,  0.  ,  0.  ,  1.  ,  0.  ,  0.  ,  0.  ,  0.  ,\n",
       "         0.  ,  0.  ,  0.  ,  0.  ,  0.  ,  0.  ,  0.  ,  0.  ,  0.  ,\n",
       "         0.  ,  0.  ,  0.  ,  0.  ,  0.  ,  0.  ,  0.  ,  0.  ,  0.  ,\n",
       "         0.  ,  0.  ,  0.  ,  0.  ,  0.  ,  0.  ,  0.  ,  1.  ,  0.  ,\n",
       "         0.  ,  1.  ,  0.  ,  0.  ,  0.  ,  0.  ,  0.  ,  0.  ,  0.  ,\n",
       "         0.  ,  0.  ,  0.  ,  1.  ,  0.  ],\n",
       "       [ 1.  ,  0.  , 10.  , 16.85,  1.  ,  1.  , 96.4 ,  0.  ,  0.  ,\n",
       "         0.  ,  0.  ,  1.  ,  0.  ,  0.  ,  0.  ,  0.  ,  0.  ,  0.  ,\n",
       "         0.  ,  0.  ,  0.  ,  0.  ,  0.  ,  0.  ,  0.  ,  0.  ,  0.  ,\n",
       "         0.  ,  0.  ,  0.  ,  1.  ,  0.  ,  0.  ,  0.  ,  0.  ,  0.  ,\n",
       "         0.  ,  0.  ,  0.  ,  0.  ,  0.  ,  0.  ,  0.  ,  0.  ,  0.  ,\n",
       "         0.  ,  0.  ,  0.  ,  0.  ,  0.  ,  0.  ,  0.  ,  0.  ,  1.  ,\n",
       "         0.  ,  0.  ,  1.  ,  0.  ,  0.  ,  0.  ,  0.  ,  0.  ,  0.  ,\n",
       "         0.  ,  0.  ,  0.  ,  1.  ,  0.  ],\n",
       "       [ 1.  ,  0.  ,  3.  , 13.97,  0.  ,  1.  , 59.5 ,  0.  ,  0.  ,\n",
       "         0.  ,  0.  ,  1.  ,  0.  ,  0.  ,  0.  ,  0.  ,  0.  ,  0.  ,\n",
       "         0.  ,  0.  ,  0.  ,  0.  ,  0.  ,  0.  ,  0.  ,  0.  ,  0.  ,\n",
       "         0.  ,  0.  ,  0.  ,  0.  ,  1.  ,  0.  ,  0.  ,  0.  ,  0.  ,\n",
       "         0.  ,  0.  ,  0.  ,  0.  ,  0.  ,  0.  ,  0.  ,  0.  ,  0.  ,\n",
       "         0.  ,  0.  ,  0.  ,  0.  ,  0.  ,  0.  ,  0.  ,  0.  ,  1.  ,\n",
       "         0.  ,  0.  ,  0.  ,  0.  ,  0.  ,  0.  ,  0.  ,  0.  ,  1.  ,\n",
       "         0.  ,  0.  ,  0.  ,  0.  ,  1.  ],\n",
       "       [ 1.  ,  0.  , 11.  , 16.33,  1.  ,  1.  , 62.1 ,  0.  ,  1.  ,\n",
       "         0.  ,  0.  ,  0.  ,  0.  ,  0.  ,  0.  ,  0.  ,  0.  ,  0.  ,\n",
       "         0.  ,  1.  ,  0.  ,  0.  ,  0.  ,  0.  ,  0.  ,  0.  ,  0.  ,\n",
       "         0.  ,  0.  ,  0.  ,  0.  ,  0.  ,  0.  ,  0.  ,  0.  ,  0.  ,\n",
       "         0.  ,  0.  ,  0.  ,  0.  ,  0.  ,  0.  ,  0.  ,  0.  ,  0.  ,\n",
       "         0.  ,  0.  ,  0.  ,  0.  ,  0.  ,  1.  ,  0.  ,  0.  ,  0.  ,\n",
       "         0.  ,  0.  ,  1.  ,  0.  ,  0.  ,  0.  ,  0.  ,  0.  ,  0.  ,\n",
       "         0.  ,  0.  ,  0.  ,  1.  ,  0.  ]])"
      ]
     },
     "execution_count": 63,
     "metadata": {},
     "output_type": "execute_result"
    }
   ],
   "source": [
    "sample_validation_features"
   ]
  },
  {
   "cell_type": "code",
   "execution_count": 64,
   "id": "b46ecc6d",
   "metadata": {},
   "outputs": [],
   "source": [
    "sample_validation_predicted = decision_tree_model.predict(sample_validation_features)"
   ]
  },
  {
   "cell_type": "code",
   "execution_count": 65,
   "id": "2c1442c4",
   "metadata": {
    "scrolled": true
   },
   "outputs": [
    {
     "data": {
      "text/plain": [
       "array([ 1, -1, -1,  1], dtype=int64)"
      ]
     },
     "execution_count": 65,
     "metadata": {},
     "output_type": "execute_result"
    }
   ],
   "source": [
    "sample_validation_predicted"
   ]
  },
  {
   "cell_type": "markdown",
   "id": "405450c5",
   "metadata": {},
   "source": [
    "### Quiz 1:"
   ]
  },
  {
   "cell_type": "code",
   "execution_count": 66,
   "id": "60c076a9",
   "metadata": {
    "scrolled": true
   },
   "outputs": [
    {
     "data": {
      "text/plain": [
       "0.5"
      ]
     },
     "execution_count": 66,
     "metadata": {},
     "output_type": "execute_result"
    }
   ],
   "source": [
    "(sample_validation_predicted == sample_validation_target).sum()/len(sample_validation_target)"
   ]
  },
  {
   "cell_type": "markdown",
   "id": "91aff7d8",
   "metadata": {},
   "source": [
    "#### What percentage of the predictions on sample_validation_data did decision_tree_model get correct?\n",
    "##### ans = 50%"
   ]
  },
  {
   "cell_type": "code",
   "execution_count": 67,
   "id": "6767dde0",
   "metadata": {},
   "outputs": [
    {
     "data": {
      "text/plain": [
       "array([[0.34156543, 0.65843457],\n",
       "       [0.53630646, 0.46369354],\n",
       "       [0.64750958, 0.35249042],\n",
       "       [0.20789474, 0.79210526]])"
      ]
     },
     "execution_count": 67,
     "metadata": {},
     "output_type": "execute_result"
    }
   ],
   "source": [
    "decision_tree_model.predict_proba(sample_validation_features)"
   ]
  },
  {
   "cell_type": "markdown",
   "id": "d23b199b",
   "metadata": {},
   "source": [
    "### Quiz 2\n",
    "#### Question 2\n",
    "Which loan has the highest probability of being classified as a safe loan?\n",
    "#### ans --> 4th"
   ]
  },
  {
   "cell_type": "markdown",
   "id": "4423fb56",
   "metadata": {},
   "source": [
    "### Tricky predictions!"
   ]
  },
  {
   "cell_type": "markdown",
   "id": "112fb573",
   "metadata": {},
   "source": [
    "what is the probability (according to small_model) of a loan being classified as safe"
   ]
  },
  {
   "cell_type": "code",
   "execution_count": 68,
   "id": "6ba3aa33",
   "metadata": {},
   "outputs": [],
   "source": [
    "small_model_prediction =  small_model.predict(sample_validation_features)"
   ]
  },
  {
   "cell_type": "code",
   "execution_count": 69,
   "id": "128e6c00",
   "metadata": {},
   "outputs": [
    {
     "data": {
      "text/plain": [
       "array([ 1, -1, -1,  1], dtype=int64)"
      ]
     },
     "execution_count": 69,
     "metadata": {},
     "output_type": "execute_result"
    }
   ],
   "source": [
    "small_model_prediction"
   ]
  },
  {
   "cell_type": "markdown",
   "id": "237a6fb4",
   "metadata": {},
   "source": [
    "### Quiz Question: \n",
    "#### Notice that the probability preditions are the exact same for the 2nd and 3rd loans. Why would this happen?\n",
    "#### ans --> "
   ]
  },
  {
   "cell_type": "markdown",
   "id": "271f6c18",
   "metadata": {},
   "source": [
    "### Visualize the prediction on a tree"
   ]
  },
  {
   "cell_type": "code",
   "execution_count": 75,
   "id": "95198f84",
   "metadata": {},
   "outputs": [
    {
     "data": {
      "text/plain": [
       "67"
      ]
     },
     "execution_count": 75,
     "metadata": {},
     "output_type": "execute_result"
    }
   ],
   "source": [
    "len(feature_list)"
   ]
  },
  {
   "cell_type": "code",
   "execution_count": 71,
   "id": "2829a83a",
   "metadata": {},
   "outputs": [
    {
     "data": {
      "text/html": [
       "<div>\n",
       "<style scoped>\n",
       "    .dataframe tbody tr th:only-of-type {\n",
       "        vertical-align: middle;\n",
       "    }\n",
       "\n",
       "    .dataframe tbody tr th {\n",
       "        vertical-align: top;\n",
       "    }\n",
       "\n",
       "    .dataframe thead th {\n",
       "        text-align: right;\n",
       "    }\n",
       "</style>\n",
       "<table border=\"1\" class=\"dataframe\">\n",
       "  <thead>\n",
       "    <tr style=\"text-align: right;\">\n",
       "      <th></th>\n",
       "      <th>short_emp</th>\n",
       "      <th>emp_length_num</th>\n",
       "      <th>dti</th>\n",
       "      <th>last_delinq_none</th>\n",
       "      <th>last_major_derog_none</th>\n",
       "      <th>revol_util</th>\n",
       "      <th>total_rec_late_fee</th>\n",
       "      <th>safe_loans</th>\n",
       "      <th>grade_A</th>\n",
       "      <th>grade_B</th>\n",
       "      <th>...</th>\n",
       "      <th>purpose_major_purchase</th>\n",
       "      <th>purpose_medical</th>\n",
       "      <th>purpose_moving</th>\n",
       "      <th>purpose_other</th>\n",
       "      <th>purpose_small_business</th>\n",
       "      <th>purpose_vacation</th>\n",
       "      <th>purpose_wedding</th>\n",
       "      <th>term_ 36 months</th>\n",
       "      <th>term_ 60 months</th>\n",
       "      <th>constant</th>\n",
       "    </tr>\n",
       "  </thead>\n",
       "  <tbody>\n",
       "    <tr>\n",
       "      <th>19</th>\n",
       "      <td>0</td>\n",
       "      <td>11</td>\n",
       "      <td>11.18</td>\n",
       "      <td>1</td>\n",
       "      <td>1</td>\n",
       "      <td>82.4</td>\n",
       "      <td>0.0</td>\n",
       "      <td>1</td>\n",
       "      <td>0</td>\n",
       "      <td>1</td>\n",
       "      <td>...</td>\n",
       "      <td>0</td>\n",
       "      <td>0</td>\n",
       "      <td>0</td>\n",
       "      <td>0</td>\n",
       "      <td>0</td>\n",
       "      <td>0</td>\n",
       "      <td>0</td>\n",
       "      <td>1</td>\n",
       "      <td>0</td>\n",
       "      <td>1</td>\n",
       "    </tr>\n",
       "    <tr>\n",
       "      <th>79</th>\n",
       "      <td>0</td>\n",
       "      <td>10</td>\n",
       "      <td>16.85</td>\n",
       "      <td>1</td>\n",
       "      <td>1</td>\n",
       "      <td>96.4</td>\n",
       "      <td>0.0</td>\n",
       "      <td>1</td>\n",
       "      <td>0</td>\n",
       "      <td>0</td>\n",
       "      <td>...</td>\n",
       "      <td>0</td>\n",
       "      <td>0</td>\n",
       "      <td>0</td>\n",
       "      <td>0</td>\n",
       "      <td>0</td>\n",
       "      <td>0</td>\n",
       "      <td>0</td>\n",
       "      <td>1</td>\n",
       "      <td>0</td>\n",
       "      <td>1</td>\n",
       "    </tr>\n",
       "    <tr>\n",
       "      <th>24</th>\n",
       "      <td>0</td>\n",
       "      <td>3</td>\n",
       "      <td>13.97</td>\n",
       "      <td>0</td>\n",
       "      <td>1</td>\n",
       "      <td>59.5</td>\n",
       "      <td>0.0</td>\n",
       "      <td>-1</td>\n",
       "      <td>0</td>\n",
       "      <td>0</td>\n",
       "      <td>...</td>\n",
       "      <td>0</td>\n",
       "      <td>0</td>\n",
       "      <td>0</td>\n",
       "      <td>1</td>\n",
       "      <td>0</td>\n",
       "      <td>0</td>\n",
       "      <td>0</td>\n",
       "      <td>0</td>\n",
       "      <td>1</td>\n",
       "      <td>1</td>\n",
       "    </tr>\n",
       "    <tr>\n",
       "      <th>41</th>\n",
       "      <td>0</td>\n",
       "      <td>11</td>\n",
       "      <td>16.33</td>\n",
       "      <td>1</td>\n",
       "      <td>1</td>\n",
       "      <td>62.1</td>\n",
       "      <td>0.0</td>\n",
       "      <td>-1</td>\n",
       "      <td>1</td>\n",
       "      <td>0</td>\n",
       "      <td>...</td>\n",
       "      <td>0</td>\n",
       "      <td>0</td>\n",
       "      <td>0</td>\n",
       "      <td>0</td>\n",
       "      <td>0</td>\n",
       "      <td>0</td>\n",
       "      <td>0</td>\n",
       "      <td>1</td>\n",
       "      <td>0</td>\n",
       "      <td>1</td>\n",
       "    </tr>\n",
       "  </tbody>\n",
       "</table>\n",
       "<p>4 rows × 69 columns</p>\n",
       "</div>"
      ],
      "text/plain": [
       "    short_emp  emp_length_num    dti  last_delinq_none  last_major_derog_none  \\\n",
       "19          0              11  11.18                 1                      1   \n",
       "79          0              10  16.85                 1                      1   \n",
       "24          0               3  13.97                 0                      1   \n",
       "41          0              11  16.33                 1                      1   \n",
       "\n",
       "    revol_util  total_rec_late_fee  safe_loans  grade_A  grade_B  ...  \\\n",
       "19        82.4                 0.0           1        0        1  ...   \n",
       "79        96.4                 0.0           1        0        0  ...   \n",
       "24        59.5                 0.0          -1        0        0  ...   \n",
       "41        62.1                 0.0          -1        1        0  ...   \n",
       "\n",
       "    purpose_major_purchase  purpose_medical  purpose_moving  purpose_other  \\\n",
       "19                       0                0               0              0   \n",
       "79                       0                0               0              0   \n",
       "24                       0                0               0              1   \n",
       "41                       0                0               0              0   \n",
       "\n",
       "    purpose_small_business  purpose_vacation  purpose_wedding  \\\n",
       "19                       0                 0                0   \n",
       "79                       0                 0                0   \n",
       "24                       0                 0                0   \n",
       "41                       0                 0                0   \n",
       "\n",
       "    term_ 36 months  term_ 60 months  constant  \n",
       "19                1                0         1  \n",
       "79                1                0         1  \n",
       "24                0                1         1  \n",
       "41                1                0         1  \n",
       "\n",
       "[4 rows x 69 columns]"
      ]
     },
     "execution_count": 71,
     "metadata": {},
     "output_type": "execute_result"
    }
   ],
   "source": [
    "sample_validation_data"
   ]
  },
  {
   "cell_type": "markdown",
   "id": "d84dc665",
   "metadata": {},
   "source": [
    "### Evaluating accuracy of the decision tree model"
   ]
  },
  {
   "cell_type": "code",
   "execution_count": 85,
   "id": "665a52a3",
   "metadata": {},
   "outputs": [],
   "source": [
    "validation_predicted_on_decision_tree_model = decision_tree_model.predict(validation_features)"
   ]
  },
  {
   "cell_type": "code",
   "execution_count": 92,
   "id": "3f5c9634",
   "metadata": {},
   "outputs": [],
   "source": [
    "total_correct_prediction = (validation_target == validation_predicted_on_decision_tree_model).sum()"
   ]
  },
  {
   "cell_type": "code",
   "execution_count": 95,
   "id": "d2269e21",
   "metadata": {},
   "outputs": [
    {
     "name": "stdout",
     "output_type": "stream",
     "text": [
      "0.64\n"
     ]
    }
   ],
   "source": [
    "accuracy = total_correct_prediction/len(validation_target)\n",
    "print(round(accuracy,2))"
   ]
  },
  {
   "cell_type": "code",
   "execution_count": 96,
   "id": "0a7e815d",
   "metadata": {},
   "outputs": [
    {
     "data": {
      "text/plain": [
       "0.6363636363636364"
      ]
     },
     "execution_count": 96,
     "metadata": {},
     "output_type": "execute_result"
    }
   ],
   "source": [
    "decision_tree_model.score(validation_features, validation_target)"
   ]
  },
  {
   "cell_type": "code",
   "execution_count": 111,
   "id": "8375034f",
   "metadata": {},
   "outputs": [
    {
     "data": {
      "text/plain": [
       "0.6405276165914464"
      ]
     },
     "execution_count": 111,
     "metadata": {},
     "output_type": "execute_result"
    }
   ],
   "source": [
    "decision_tree_model.score(train_features, train_target)"
   ]
  },
  {
   "cell_type": "markdown",
   "id": "c4aa9279",
   "metadata": {},
   "source": [
    "### Quiz Question 5:\n",
    "What is the accuracy of decision_tree_model on the validation set, rounded to the nearest .01?\n",
    "Ans --> 0.64"
   ]
  },
  {
   "cell_type": "markdown",
   "id": "c4fe61e7",
   "metadata": {},
   "source": [
    "### Evaluating accuracy of a complex decision tree model"
   ]
  },
  {
   "cell_type": "markdown",
   "id": "0ace01f1",
   "metadata": {},
   "source": [
    "train a large decision tree with max_depth=10."
   ]
  },
  {
   "cell_type": "code",
   "execution_count": 97,
   "id": "10d52f14",
   "metadata": {},
   "outputs": [],
   "source": [
    "big_clf = DecisionTreeClassifier(max_depth = 10)\n",
    "big_model = big_clf.fit(train_features, train_target)"
   ]
  },
  {
   "cell_type": "code",
   "execution_count": 99,
   "id": "281c67f1",
   "metadata": {},
   "outputs": [],
   "source": [
    "train_predicted = big_model.predict(train_features)"
   ]
  },
  {
   "cell_type": "code",
   "execution_count": 101,
   "id": "4b8c54ec",
   "metadata": {},
   "outputs": [],
   "source": [
    "correctly_predicted_train = (train_predicted==train_target).sum()"
   ]
  },
  {
   "cell_type": "code",
   "execution_count": 104,
   "id": "ed5590db",
   "metadata": {},
   "outputs": [
    {
     "name": "stdout",
     "output_type": "stream",
     "text": [
      "0.6637384483129164\n"
     ]
    }
   ],
   "source": [
    "train_accuracy = correctly_predicted_train/len(train_predicted)\n",
    "print(train_accuracy)"
   ]
  },
  {
   "cell_type": "code",
   "execution_count": 105,
   "id": "37fd4c03",
   "metadata": {},
   "outputs": [],
   "source": [
    "validation_predicted = big_model.predict(validation_features)"
   ]
  },
  {
   "cell_type": "code",
   "execution_count": 106,
   "id": "71d9b7cb",
   "metadata": {},
   "outputs": [],
   "source": [
    "correctly_predicted_validaction = (validation_predicted==validation_target).sum()"
   ]
  },
  {
   "cell_type": "code",
   "execution_count": 108,
   "id": "85b9d8c8",
   "metadata": {},
   "outputs": [
    {
     "name": "stdout",
     "output_type": "stream",
     "text": [
      "0.6265618267987936\n"
     ]
    }
   ],
   "source": [
    "validation_accuracy = correctly_predicted_validaction/len(validation_predicted)\n",
    "print(validation_accuracy)"
   ]
  },
  {
   "cell_type": "code",
   "execution_count": 110,
   "id": "5739573e",
   "metadata": {},
   "outputs": [
    {
     "data": {
      "text/plain": [
       "0.6637384483129164"
      ]
     },
     "execution_count": 110,
     "metadata": {},
     "output_type": "execute_result"
    }
   ],
   "source": [
    "big_model.score(train_features, train_target)"
   ]
  },
  {
   "cell_type": "code",
   "execution_count": 109,
   "id": "cb5cb921",
   "metadata": {
    "scrolled": true
   },
   "outputs": [
    {
     "data": {
      "text/plain": [
       "0.6265618267987936"
      ]
     },
     "execution_count": 109,
     "metadata": {},
     "output_type": "execute_result"
    }
   ],
   "source": [
    "big_model.score(validation_features, validation_target)"
   ]
  },
  {
   "cell_type": "markdown",
   "id": "39a068d5",
   "metadata": {},
   "source": [
    "### Question 5\n",
    "How does the performance of big_model on the validation set compare to decision_tree_model on the validation set? Is this a sign of overfitting?\n",
    "\n",
    "Ans = Big_model has higher accuracy on the validation set than decision_tree_model. This is not overfitting."
   ]
  },
  {
   "cell_type": "code",
   "execution_count": 113,
   "id": "4310df9d",
   "metadata": {},
   "outputs": [],
   "source": [
    "validation_prodicted = decision_tree_model.predict(validation_features)"
   ]
  },
  {
   "cell_type": "code",
   "execution_count": 114,
   "id": "71fad364",
   "metadata": {},
   "outputs": [
    {
     "data": {
      "text/plain": [
       "array([-1,  1, -1, ..., -1, -1,  1], dtype=int64)"
      ]
     },
     "execution_count": 114,
     "metadata": {},
     "output_type": "execute_result"
    }
   ],
   "source": [
    "validation_prodicted"
   ]
  },
  {
   "cell_type": "code",
   "execution_count": 126,
   "id": "9fde1e87",
   "metadata": {},
   "outputs": [
    {
     "name": "stdout",
     "output_type": "stream",
     "text": [
      "[False  True False ... False False  True]\n"
     ]
    }
   ],
   "source": [
    "print(validation_prodicted == 1)"
   ]
  },
  {
   "cell_type": "code",
   "execution_count": 132,
   "id": "2ded6f63",
   "metadata": {},
   "outputs": [
    {
     "data": {
      "text/plain": [
       "array([-1, -1, -1, ...,  1,  1,  1], dtype=int64)"
      ]
     },
     "execution_count": 132,
     "metadata": {},
     "output_type": "execute_result"
    }
   ],
   "source": [
    "validation_target"
   ]
  },
  {
   "cell_type": "code",
   "execution_count": 123,
   "id": "fa8e86be",
   "metadata": {
    "scrolled": true
   },
   "outputs": [
    {
     "name": "stdout",
     "output_type": "stream",
     "text": [
      "1661\n"
     ]
    }
   ],
   "source": [
    "false_positives = ((validation_prodicted==1) * (validation_target==-1)).sum()\n",
    "print(false_positives)"
   ]
  },
  {
   "cell_type": "code",
   "execution_count": 130,
   "id": "6af077af",
   "metadata": {},
   "outputs": [
    {
     "data": {
      "text/plain": [
       "array([False,  True, False, ..., False, False, False])"
      ]
     },
     "execution_count": 130,
     "metadata": {},
     "output_type": "execute_result"
    }
   ],
   "source": [
    "(validation_prodicted == 1)*(validation_target == -1)"
   ]
  },
  {
   "cell_type": "code",
   "execution_count": 139,
   "id": "1c66cbf2",
   "metadata": {},
   "outputs": [
    {
     "name": "stdout",
     "output_type": "stream",
     "text": [
      "1715\n"
     ]
    }
   ],
   "source": [
    "false_negatives = ((validation_prodicted==-1) * (validation_target==1)).sum()\n",
    "print(false_negatives)"
   ]
  },
  {
   "cell_type": "code",
   "execution_count": 136,
   "id": "dd2aaeed",
   "metadata": {},
   "outputs": [],
   "source": [
    "False_positives = 0\n",
    "False_negatives = 0\n",
    "for i in range(len(validation_target)):\n",
    "    if validation_prodicted[i] == 1 and validation_target[i] == -1:\n",
    "        False_positives +=1\n",
    "    if validation_prodicted[i] == -1 and validation_target[i] == +1:\n",
    "        False_negatives +=1"
   ]
  },
  {
   "cell_type": "code",
   "execution_count": 137,
   "id": "96806e3d",
   "metadata": {},
   "outputs": [
    {
     "data": {
      "text/plain": [
       "1661"
      ]
     },
     "execution_count": 137,
     "metadata": {},
     "output_type": "execute_result"
    }
   ],
   "source": [
    "False_positives"
   ]
  },
  {
   "cell_type": "code",
   "execution_count": 138,
   "id": "e86ff3ea",
   "metadata": {},
   "outputs": [
    {
     "data": {
      "text/plain": [
       "1715"
      ]
     },
     "execution_count": 138,
     "metadata": {},
     "output_type": "execute_result"
    }
   ],
   "source": [
    "False_negatives"
   ]
  },
  {
   "cell_type": "code",
   "execution_count": 140,
   "id": "a54654ca",
   "metadata": {},
   "outputs": [
    {
     "name": "stdout",
     "output_type": "stream",
     "text": [
      "5908\n"
     ]
    }
   ],
   "source": [
    "correct_prediction = (validation_prodicted ==validation_target).sum()\n",
    "print(correct_prediction)"
   ]
  },
  {
   "cell_type": "code",
   "execution_count": 141,
   "id": "7663230a",
   "metadata": {},
   "outputs": [
    {
     "name": "stdout",
     "output_type": "stream",
     "text": [
      "50370000\n"
     ]
    }
   ],
   "source": [
    "print(10000 * False_negatives + 20000 * False_positives)"
   ]
  }
 ],
 "metadata": {
  "kernelspec": {
   "display_name": "Python 3",
   "language": "python",
   "name": "python3"
  },
  "language_info": {
   "codemirror_mode": {
    "name": "ipython",
    "version": 3
   },
   "file_extension": ".py",
   "mimetype": "text/x-python",
   "name": "python",
   "nbconvert_exporter": "python",
   "pygments_lexer": "ipython3",
   "version": "3.9.4"
  }
 },
 "nbformat": 4,
 "nbformat_minor": 5
}
