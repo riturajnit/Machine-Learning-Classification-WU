{
 "cells": [
  {
   "cell_type": "markdown",
   "metadata": {},
   "source": [
    "# Implementing logistic regression from scratch"
   ]
  },
  {
   "cell_type": "code",
   "execution_count": 2,
   "metadata": {},
   "outputs": [],
   "source": [
    "import numpy as np\n",
    "import pandas as pd"
   ]
  },
  {
   "cell_type": "code",
   "execution_count": 3,
   "metadata": {},
   "outputs": [],
   "source": [
    "products = pd.read_csv('amazon_baby_subset.csv')"
   ]
  },
  {
   "cell_type": "markdown",
   "metadata": {},
   "source": [
    "* One column of this dataset is sentiment, corresponding to the class label with +1 indicating a review with positive sentiment and -1 for negative sentiment.\n",
    "\n",
    "* The name column indicates the name of the product."
   ]
  },
  {
   "cell_type": "code",
   "execution_count": 4,
   "metadata": {},
   "outputs": [
    {
     "data": {
      "text/html": [
       "<div>\n",
       "<style scoped>\n",
       "    .dataframe tbody tr th:only-of-type {\n",
       "        vertical-align: middle;\n",
       "    }\n",
       "\n",
       "    .dataframe tbody tr th {\n",
       "        vertical-align: top;\n",
       "    }\n",
       "\n",
       "    .dataframe thead th {\n",
       "        text-align: right;\n",
       "    }\n",
       "</style>\n",
       "<table border=\"1\" class=\"dataframe\">\n",
       "  <thead>\n",
       "    <tr style=\"text-align: right;\">\n",
       "      <th></th>\n",
       "      <th>name</th>\n",
       "      <th>review</th>\n",
       "      <th>rating</th>\n",
       "      <th>sentiment</th>\n",
       "    </tr>\n",
       "  </thead>\n",
       "  <tbody>\n",
       "    <tr>\n",
       "      <th>0</th>\n",
       "      <td>Stop Pacifier Sucking without tears with Thumb...</td>\n",
       "      <td>All of my kids have cried non-stop when I trie...</td>\n",
       "      <td>5</td>\n",
       "      <td>1</td>\n",
       "    </tr>\n",
       "    <tr>\n",
       "      <th>1</th>\n",
       "      <td>Nature's Lullabies Second Year Sticker Calendar</td>\n",
       "      <td>We wanted to get something to keep track of ou...</td>\n",
       "      <td>5</td>\n",
       "      <td>1</td>\n",
       "    </tr>\n",
       "    <tr>\n",
       "      <th>2</th>\n",
       "      <td>Nature's Lullabies Second Year Sticker Calendar</td>\n",
       "      <td>My daughter had her 1st baby over a year ago. ...</td>\n",
       "      <td>5</td>\n",
       "      <td>1</td>\n",
       "    </tr>\n",
       "    <tr>\n",
       "      <th>3</th>\n",
       "      <td>Lamaze Peekaboo, I Love You</td>\n",
       "      <td>One of baby's first and favorite books, and it...</td>\n",
       "      <td>4</td>\n",
       "      <td>1</td>\n",
       "    </tr>\n",
       "    <tr>\n",
       "      <th>4</th>\n",
       "      <td>SoftPlay Peek-A-Boo Where's Elmo A Children's ...</td>\n",
       "      <td>Very cute interactive book! My son loves this ...</td>\n",
       "      <td>5</td>\n",
       "      <td>1</td>\n",
       "    </tr>\n",
       "  </tbody>\n",
       "</table>\n",
       "</div>"
      ],
      "text/plain": [
       "                                                name  \\\n",
       "0  Stop Pacifier Sucking without tears with Thumb...   \n",
       "1    Nature's Lullabies Second Year Sticker Calendar   \n",
       "2    Nature's Lullabies Second Year Sticker Calendar   \n",
       "3                        Lamaze Peekaboo, I Love You   \n",
       "4  SoftPlay Peek-A-Boo Where's Elmo A Children's ...   \n",
       "\n",
       "                                              review  rating  sentiment  \n",
       "0  All of my kids have cried non-stop when I trie...       5          1  \n",
       "1  We wanted to get something to keep track of ou...       5          1  \n",
       "2  My daughter had her 1st baby over a year ago. ...       5          1  \n",
       "3  One of baby's first and favorite books, and it...       4          1  \n",
       "4  Very cute interactive book! My son loves this ...       5          1  "
      ]
     },
     "execution_count": 4,
     "metadata": {},
     "output_type": "execute_result"
    }
   ],
   "source": [
    "products.head()"
   ]
  },
  {
   "cell_type": "markdown",
   "metadata": {},
   "source": [
    "Count positive and negative review"
   ]
  },
  {
   "cell_type": "code",
   "execution_count": 5,
   "metadata": {},
   "outputs": [
    {
     "data": {
      "text/plain": [
       " 1    26579\n",
       "-1    26493\n",
       "Name: sentiment, dtype: int64"
      ]
     },
     "execution_count": 5,
     "metadata": {},
     "output_type": "execute_result"
    }
   ],
   "source": [
    "products['sentiment'].value_counts()"
   ]
  },
  {
   "cell_type": "code",
   "execution_count": 6,
   "metadata": {},
   "outputs": [
    {
     "data": {
      "text/plain": [
       "0    Stop Pacifier Sucking without tears with Thumb...\n",
       "1      Nature's Lullabies Second Year Sticker Calendar\n",
       "2      Nature's Lullabies Second Year Sticker Calendar\n",
       "3                          Lamaze Peekaboo, I Love You\n",
       "4    SoftPlay Peek-A-Boo Where's Elmo A Children's ...\n",
       "Name: name, dtype: object"
      ]
     },
     "execution_count": 6,
     "metadata": {},
     "output_type": "execute_result"
    }
   ],
   "source": [
    "products['name'].head()"
   ]
  },
  {
   "cell_type": "code",
   "execution_count": 7,
   "metadata": {},
   "outputs": [],
   "source": [
    "import json"
   ]
  },
  {
   "cell_type": "code",
   "execution_count": 65,
   "metadata": {},
   "outputs": [],
   "source": [
    "with open('important_words.json') as w:\n",
    "    important_words = json.load(w)"
   ]
  },
  {
   "cell_type": "code",
   "execution_count": 66,
   "metadata": {},
   "outputs": [
    {
     "data": {
      "text/plain": [
       "['baby',\n",
       " 'one',\n",
       " 'great',\n",
       " 'love',\n",
       " 'use',\n",
       " 'would',\n",
       " 'like',\n",
       " 'easy',\n",
       " 'little',\n",
       " 'seat',\n",
       " 'old',\n",
       " 'well',\n",
       " 'get',\n",
       " 'also',\n",
       " 'really',\n",
       " 'son',\n",
       " 'time',\n",
       " 'bought',\n",
       " 'product',\n",
       " 'good',\n",
       " 'daughter',\n",
       " 'much',\n",
       " 'loves',\n",
       " 'stroller',\n",
       " 'put',\n",
       " 'months',\n",
       " 'car',\n",
       " 'still',\n",
       " 'back',\n",
       " 'used',\n",
       " 'recommend',\n",
       " 'first',\n",
       " 'even',\n",
       " 'perfect',\n",
       " 'nice',\n",
       " 'bag',\n",
       " 'two',\n",
       " 'using',\n",
       " 'got',\n",
       " 'fit',\n",
       " 'around',\n",
       " 'diaper',\n",
       " 'enough',\n",
       " 'month',\n",
       " 'price',\n",
       " 'go',\n",
       " 'could',\n",
       " 'soft',\n",
       " 'since',\n",
       " 'buy',\n",
       " 'room',\n",
       " 'works',\n",
       " 'made',\n",
       " 'child',\n",
       " 'keep',\n",
       " 'size',\n",
       " 'small',\n",
       " 'need',\n",
       " 'year',\n",
       " 'big',\n",
       " 'make',\n",
       " 'take',\n",
       " 'easily',\n",
       " 'think',\n",
       " 'crib',\n",
       " 'clean',\n",
       " 'way',\n",
       " 'quality',\n",
       " 'thing',\n",
       " 'better',\n",
       " 'without',\n",
       " 'set',\n",
       " 'new',\n",
       " 'every',\n",
       " 'cute',\n",
       " 'best',\n",
       " 'bottles',\n",
       " 'work',\n",
       " 'purchased',\n",
       " 'right',\n",
       " 'lot',\n",
       " 'side',\n",
       " 'happy',\n",
       " 'comfortable',\n",
       " 'toy',\n",
       " 'able',\n",
       " 'kids',\n",
       " 'bit',\n",
       " 'night',\n",
       " 'long',\n",
       " 'fits',\n",
       " 'see',\n",
       " 'us',\n",
       " 'another',\n",
       " 'play',\n",
       " 'day',\n",
       " 'money',\n",
       " 'monitor',\n",
       " 'tried',\n",
       " 'thought',\n",
       " 'never',\n",
       " 'item',\n",
       " 'hard',\n",
       " 'plastic',\n",
       " 'however',\n",
       " 'disappointed',\n",
       " 'reviews',\n",
       " 'something',\n",
       " 'going',\n",
       " 'pump',\n",
       " 'bottle',\n",
       " 'cup',\n",
       " 'waste',\n",
       " 'return',\n",
       " 'amazon',\n",
       " 'different',\n",
       " 'top',\n",
       " 'want',\n",
       " 'problem',\n",
       " 'know',\n",
       " 'water',\n",
       " 'try',\n",
       " 'received',\n",
       " 'sure',\n",
       " 'times',\n",
       " 'chair',\n",
       " 'find',\n",
       " 'hold',\n",
       " 'gate',\n",
       " 'open',\n",
       " 'bottom',\n",
       " 'away',\n",
       " 'actually',\n",
       " 'cheap',\n",
       " 'worked',\n",
       " 'getting',\n",
       " 'ordered',\n",
       " 'came',\n",
       " 'milk',\n",
       " 'bad',\n",
       " 'part',\n",
       " 'worth',\n",
       " 'found',\n",
       " 'cover',\n",
       " 'many',\n",
       " 'design',\n",
       " 'looking',\n",
       " 'weeks',\n",
       " 'say',\n",
       " 'wanted',\n",
       " 'look',\n",
       " 'place',\n",
       " 'purchase',\n",
       " 'looks',\n",
       " 'second',\n",
       " 'piece',\n",
       " 'box',\n",
       " 'pretty',\n",
       " 'trying',\n",
       " 'difficult',\n",
       " 'together',\n",
       " 'though',\n",
       " 'give',\n",
       " 'started',\n",
       " 'anything',\n",
       " 'last',\n",
       " 'company',\n",
       " 'come',\n",
       " 'returned',\n",
       " 'maybe',\n",
       " 'took',\n",
       " 'broke',\n",
       " 'makes',\n",
       " 'stay',\n",
       " 'instead',\n",
       " 'idea',\n",
       " 'head',\n",
       " 'said',\n",
       " 'less',\n",
       " 'went',\n",
       " 'working',\n",
       " 'high',\n",
       " 'unit',\n",
       " 'seems',\n",
       " 'picture',\n",
       " 'completely',\n",
       " 'wish',\n",
       " 'buying',\n",
       " 'babies',\n",
       " 'won',\n",
       " 'tub',\n",
       " 'almost',\n",
       " 'either']"
      ]
     },
     "execution_count": 66,
     "metadata": {},
     "output_type": "execute_result"
    }
   ],
   "source": [
    "important_words"
   ]
  },
  {
   "cell_type": "code",
   "execution_count": 68,
   "metadata": {},
   "outputs": [
    {
     "data": {
      "text/plain": [
       "193"
      ]
     },
     "execution_count": 68,
     "metadata": {},
     "output_type": "execute_result"
    }
   ],
   "source": [
    "len(important_words)"
   ]
  },
  {
   "cell_type": "code",
   "execution_count": 12,
   "metadata": {},
   "outputs": [],
   "source": [
    "# important_words = pd.read_json('important_words.json')"
   ]
  },
  {
   "cell_type": "code",
   "execution_count": 13,
   "metadata": {},
   "outputs": [],
   "source": [
    "# important_words"
   ]
  },
  {
   "cell_type": "code",
   "execution_count": 14,
   "metadata": {},
   "outputs": [],
   "source": [
    "products = products.fillna({'review':''})"
   ]
  },
  {
   "cell_type": "code",
   "execution_count": 15,
   "metadata": {},
   "outputs": [
    {
     "data": {
      "text/plain": [
       "0        All of my kids have cried non-stop when I trie...\n",
       "1        We wanted to get something to keep track of ou...\n",
       "2        My daughter had her 1st baby over a year ago. ...\n",
       "3        One of baby's first and favorite books, and it...\n",
       "4        Very cute interactive book! My son loves this ...\n",
       "                               ...                        \n",
       "53067    My infant goes to a really crappy daycare, and...\n",
       "53068    Pretty please open and inspect these stickers ...\n",
       "53069    Great 5-Star Product but An Obvious knock-off ...\n",
       "53070    When I received the item my initial thought wa...\n",
       "53071    I got this case in the mail today, it came on ...\n",
       "Name: review, Length: 53072, dtype: object"
      ]
     },
     "execution_count": 15,
     "metadata": {},
     "output_type": "execute_result"
    }
   ],
   "source": [
    "products['review']"
   ]
  },
  {
   "cell_type": "code",
   "execution_count": 16,
   "metadata": {},
   "outputs": [],
   "source": [
    "import string"
   ]
  },
  {
   "cell_type": "code",
   "execution_count": 17,
   "metadata": {},
   "outputs": [
    {
     "data": {
      "text/plain": [
       "'!\"#$%&\\'()*+,-./:;<=>?@[\\\\]^_`{|}~'"
      ]
     },
     "execution_count": 17,
     "metadata": {},
     "output_type": "execute_result"
    }
   ],
   "source": [
    "string.punctuation"
   ]
  },
  {
   "cell_type": "code",
   "execution_count": 18,
   "metadata": {},
   "outputs": [],
   "source": [
    "# functoin to remove puntuation from text\n",
    "def remove_punctuation(text):\n",
    "    import string\n",
    "    return text.translate(str.maketrans('','',string.punctuation))"
   ]
  },
  {
   "cell_type": "code",
   "execution_count": 19,
   "metadata": {},
   "outputs": [],
   "source": [
    "text = 'hey! I am Rituraj. How are you??'"
   ]
  },
  {
   "cell_type": "code",
   "execution_count": 20,
   "metadata": {},
   "outputs": [
    {
     "data": {
      "text/plain": [
       "'hey I am Rituraj How are you'"
      ]
     },
     "execution_count": 20,
     "metadata": {},
     "output_type": "execute_result"
    }
   ],
   "source": [
    "remove_punctuation(text)"
   ]
  },
  {
   "cell_type": "code",
   "execution_count": 21,
   "metadata": {},
   "outputs": [],
   "source": [
    "products['review_clean'] = products['review'].apply(remove_punctuation)"
   ]
  },
  {
   "cell_type": "code",
   "execution_count": 22,
   "metadata": {},
   "outputs": [
    {
     "data": {
      "text/plain": [
       "0        All of my kids have cried nonstop when I tried...\n",
       "1        We wanted to get something to keep track of ou...\n",
       "2        My daughter had her 1st baby over a year ago S...\n",
       "3        One of babys first and favorite books and it i...\n",
       "4        Very cute interactive book My son loves this b...\n",
       "                               ...                        \n",
       "53067    My infant goes to a really crappy daycare and ...\n",
       "53068    Pretty please open and inspect these stickers ...\n",
       "53069    Great 5Star Product but An Obvious knockoff of...\n",
       "53070    When I received the item my initial thought wa...\n",
       "53071    I got this case in the mail today it came on t...\n",
       "Name: review_clean, Length: 53072, dtype: object"
      ]
     },
     "execution_count": 22,
     "metadata": {},
     "output_type": "execute_result"
    }
   ],
   "source": [
    "products['review_clean']"
   ]
  },
  {
   "cell_type": "code",
   "execution_count": 69,
   "metadata": {},
   "outputs": [],
   "source": [
    "for word in important_words:\n",
    "    products[word] = products['review_clean'].apply(lambda s : s.split().count(word))"
   ]
  },
  {
   "cell_type": "code",
   "execution_count": 70,
   "metadata": {},
   "outputs": [
    {
     "data": {
      "text/html": [
       "<div>\n",
       "<style scoped>\n",
       "    .dataframe tbody tr th:only-of-type {\n",
       "        vertical-align: middle;\n",
       "    }\n",
       "\n",
       "    .dataframe tbody tr th {\n",
       "        vertical-align: top;\n",
       "    }\n",
       "\n",
       "    .dataframe thead th {\n",
       "        text-align: right;\n",
       "    }\n",
       "</style>\n",
       "<table border=\"1\" class=\"dataframe\">\n",
       "  <thead>\n",
       "    <tr style=\"text-align: right;\">\n",
       "      <th></th>\n",
       "      <th>name</th>\n",
       "      <th>review</th>\n",
       "      <th>rating</th>\n",
       "      <th>sentiment</th>\n",
       "      <th>review_clean</th>\n",
       "      <th>baby</th>\n",
       "      <th>one</th>\n",
       "      <th>great</th>\n",
       "      <th>love</th>\n",
       "      <th>use</th>\n",
       "      <th>...</th>\n",
       "      <th>completely</th>\n",
       "      <th>wish</th>\n",
       "      <th>buying</th>\n",
       "      <th>babies</th>\n",
       "      <th>won</th>\n",
       "      <th>tub</th>\n",
       "      <th>almost</th>\n",
       "      <th>either</th>\n",
       "      <th>contain_perfect</th>\n",
       "      <th>constant</th>\n",
       "    </tr>\n",
       "  </thead>\n",
       "  <tbody>\n",
       "    <tr>\n",
       "      <th>0</th>\n",
       "      <td>Stop Pacifier Sucking without tears with Thumb...</td>\n",
       "      <td>All of my kids have cried non-stop when I trie...</td>\n",
       "      <td>5</td>\n",
       "      <td>1</td>\n",
       "      <td>All of my kids have cried nonstop when I tried...</td>\n",
       "      <td>0</td>\n",
       "      <td>0</td>\n",
       "      <td>1</td>\n",
       "      <td>0</td>\n",
       "      <td>0</td>\n",
       "      <td>...</td>\n",
       "      <td>0</td>\n",
       "      <td>0</td>\n",
       "      <td>0</td>\n",
       "      <td>0</td>\n",
       "      <td>0</td>\n",
       "      <td>0</td>\n",
       "      <td>0</td>\n",
       "      <td>0</td>\n",
       "      <td>0.0</td>\n",
       "      <td>1</td>\n",
       "    </tr>\n",
       "    <tr>\n",
       "      <th>1</th>\n",
       "      <td>Nature's Lullabies Second Year Sticker Calendar</td>\n",
       "      <td>We wanted to get something to keep track of ou...</td>\n",
       "      <td>5</td>\n",
       "      <td>1</td>\n",
       "      <td>We wanted to get something to keep track of ou...</td>\n",
       "      <td>0</td>\n",
       "      <td>0</td>\n",
       "      <td>0</td>\n",
       "      <td>0</td>\n",
       "      <td>0</td>\n",
       "      <td>...</td>\n",
       "      <td>0</td>\n",
       "      <td>0</td>\n",
       "      <td>0</td>\n",
       "      <td>0</td>\n",
       "      <td>0</td>\n",
       "      <td>0</td>\n",
       "      <td>0</td>\n",
       "      <td>0</td>\n",
       "      <td>0.0</td>\n",
       "      <td>1</td>\n",
       "    </tr>\n",
       "    <tr>\n",
       "      <th>2</th>\n",
       "      <td>Nature's Lullabies Second Year Sticker Calendar</td>\n",
       "      <td>My daughter had her 1st baby over a year ago. ...</td>\n",
       "      <td>5</td>\n",
       "      <td>1</td>\n",
       "      <td>My daughter had her 1st baby over a year ago S...</td>\n",
       "      <td>1</td>\n",
       "      <td>0</td>\n",
       "      <td>0</td>\n",
       "      <td>0</td>\n",
       "      <td>0</td>\n",
       "      <td>...</td>\n",
       "      <td>0</td>\n",
       "      <td>0</td>\n",
       "      <td>0</td>\n",
       "      <td>0</td>\n",
       "      <td>0</td>\n",
       "      <td>0</td>\n",
       "      <td>0</td>\n",
       "      <td>0</td>\n",
       "      <td>0.0</td>\n",
       "      <td>1</td>\n",
       "    </tr>\n",
       "    <tr>\n",
       "      <th>3</th>\n",
       "      <td>Lamaze Peekaboo, I Love You</td>\n",
       "      <td>One of baby's first and favorite books, and it...</td>\n",
       "      <td>4</td>\n",
       "      <td>1</td>\n",
       "      <td>One of babys first and favorite books and it i...</td>\n",
       "      <td>0</td>\n",
       "      <td>0</td>\n",
       "      <td>0</td>\n",
       "      <td>0</td>\n",
       "      <td>0</td>\n",
       "      <td>...</td>\n",
       "      <td>0</td>\n",
       "      <td>0</td>\n",
       "      <td>0</td>\n",
       "      <td>0</td>\n",
       "      <td>0</td>\n",
       "      <td>0</td>\n",
       "      <td>0</td>\n",
       "      <td>0</td>\n",
       "      <td>1.0</td>\n",
       "      <td>1</td>\n",
       "    </tr>\n",
       "    <tr>\n",
       "      <th>4</th>\n",
       "      <td>SoftPlay Peek-A-Boo Where's Elmo A Children's ...</td>\n",
       "      <td>Very cute interactive book! My son loves this ...</td>\n",
       "      <td>5</td>\n",
       "      <td>1</td>\n",
       "      <td>Very cute interactive book My son loves this b...</td>\n",
       "      <td>0</td>\n",
       "      <td>0</td>\n",
       "      <td>1</td>\n",
       "      <td>0</td>\n",
       "      <td>0</td>\n",
       "      <td>...</td>\n",
       "      <td>0</td>\n",
       "      <td>0</td>\n",
       "      <td>0</td>\n",
       "      <td>1</td>\n",
       "      <td>0</td>\n",
       "      <td>0</td>\n",
       "      <td>0</td>\n",
       "      <td>0</td>\n",
       "      <td>0.0</td>\n",
       "      <td>1</td>\n",
       "    </tr>\n",
       "  </tbody>\n",
       "</table>\n",
       "<p>5 rows × 200 columns</p>\n",
       "</div>"
      ],
      "text/plain": [
       "                                                name  \\\n",
       "0  Stop Pacifier Sucking without tears with Thumb...   \n",
       "1    Nature's Lullabies Second Year Sticker Calendar   \n",
       "2    Nature's Lullabies Second Year Sticker Calendar   \n",
       "3                        Lamaze Peekaboo, I Love You   \n",
       "4  SoftPlay Peek-A-Boo Where's Elmo A Children's ...   \n",
       "\n",
       "                                              review  rating  sentiment  \\\n",
       "0  All of my kids have cried non-stop when I trie...       5          1   \n",
       "1  We wanted to get something to keep track of ou...       5          1   \n",
       "2  My daughter had her 1st baby over a year ago. ...       5          1   \n",
       "3  One of baby's first and favorite books, and it...       4          1   \n",
       "4  Very cute interactive book! My son loves this ...       5          1   \n",
       "\n",
       "                                        review_clean  baby  one  great  love  \\\n",
       "0  All of my kids have cried nonstop when I tried...     0    0      1     0   \n",
       "1  We wanted to get something to keep track of ou...     0    0      0     0   \n",
       "2  My daughter had her 1st baby over a year ago S...     1    0      0     0   \n",
       "3  One of babys first and favorite books and it i...     0    0      0     0   \n",
       "4  Very cute interactive book My son loves this b...     0    0      1     0   \n",
       "\n",
       "   use  ...  completely  wish  buying  babies  won  tub  almost  either  \\\n",
       "0    0  ...           0     0       0       0    0    0       0       0   \n",
       "1    0  ...           0     0       0       0    0    0       0       0   \n",
       "2    0  ...           0     0       0       0    0    0       0       0   \n",
       "3    0  ...           0     0       0       0    0    0       0       0   \n",
       "4    0  ...           0     0       0       1    0    0       0       0   \n",
       "\n",
       "   contain_perfect  constant  \n",
       "0              0.0         1  \n",
       "1              0.0         1  \n",
       "2              0.0         1  \n",
       "3              1.0         1  \n",
       "4              0.0         1  \n",
       "\n",
       "[5 rows x 200 columns]"
      ]
     },
     "execution_count": 70,
     "metadata": {},
     "output_type": "execute_result"
    }
   ],
   "source": [
    "products.head()"
   ]
  },
  {
   "cell_type": "code",
   "execution_count": 71,
   "metadata": {
    "scrolled": true
   },
   "outputs": [],
   "source": [
    "products.loc[products['perfect']>= 1, 'contain_perfect'] = 1"
   ]
  },
  {
   "cell_type": "code",
   "execution_count": 72,
   "metadata": {
    "scrolled": true
   },
   "outputs": [],
   "source": [
    "products.loc[products['perfect']<1, 'contain_perfect'] = 0"
   ]
  },
  {
   "cell_type": "code",
   "execution_count": 73,
   "metadata": {},
   "outputs": [
    {
     "data": {
      "text/plain": [
       "2955.0"
      ]
     },
     "execution_count": 73,
     "metadata": {},
     "output_type": "execute_result"
    }
   ],
   "source": [
    "products['contain_perfect'].sum()"
   ]
  },
  {
   "cell_type": "code",
   "execution_count": 75,
   "metadata": {},
   "outputs": [],
   "source": [
    "def get_numpy_data(dataframe, features, label):\n",
    "    dataframe['constant'] = 1\n",
    "    feature_frame = ['constant']+features\n",
    "    feature_matrix = dataframe[feature_frame].to_numpy()\n",
    "    label_sarray = dataframe[label]\n",
    "    label_array = label_sarray.to_numpy()\n",
    "    return (feature_matrix, label_array)"
   ]
  },
  {
   "cell_type": "code",
   "execution_count": 76,
   "metadata": {},
   "outputs": [],
   "source": [
    "feature_matrix, sentiment = get_numpy_data(products, important_words, 'sentiment')"
   ]
  },
  {
   "cell_type": "code",
   "execution_count": 77,
   "metadata": {},
   "outputs": [
    {
     "data": {
      "text/plain": [
       "array([[1, 0, 0, ..., 0, 0, 0],\n",
       "       [1, 0, 0, ..., 0, 0, 0],\n",
       "       [1, 1, 0, ..., 0, 0, 0],\n",
       "       ...,\n",
       "       [1, 0, 0, ..., 0, 0, 0],\n",
       "       [1, 0, 1, ..., 0, 0, 0],\n",
       "       [1, 0, 0, ..., 0, 0, 0]])"
      ]
     },
     "execution_count": 77,
     "metadata": {},
     "output_type": "execute_result"
    }
   ],
   "source": [
    "feature_matrix"
   ]
  },
  {
   "cell_type": "code",
   "execution_count": 78,
   "metadata": {},
   "outputs": [
    {
     "data": {
      "text/plain": [
       "array([ 1,  1,  1, ..., -1, -1, -1])"
      ]
     },
     "execution_count": 78,
     "metadata": {},
     "output_type": "execute_result"
    }
   ],
   "source": [
    "sentiment"
   ]
  },
  {
   "cell_type": "code",
   "execution_count": 79,
   "metadata": {},
   "outputs": [
    {
     "name": "stdout",
     "output_type": "stream",
     "text": [
      "(53072, 194)\n"
     ]
    }
   ],
   "source": [
    "print(feature_matrix.shape)"
   ]
  },
  {
   "cell_type": "code",
   "execution_count": 80,
   "metadata": {},
   "outputs": [],
   "source": [
    "def predict_probability(feature_matrix, coefficients):\n",
    "    score = np.dot(feature_matrix, coefficients)\n",
    "    \n",
    "    prediction = 1/(1+np.exp(-score))\n",
    "    return prediction"
   ]
  },
  {
   "cell_type": "code",
   "execution_count": 81,
   "metadata": {},
   "outputs": [],
   "source": [
    "def feature_derivative(errors, feature):     \n",
    "    # Compute the dot product of errors and feature\n",
    "    derivative = np.dot(np.transpose(errors), feature)\n",
    "        # Return the derivative\n",
    "    return derivative"
   ]
  },
  {
   "cell_type": "code",
   "execution_count": 95,
   "metadata": {},
   "outputs": [],
   "source": [
    "def compute_log_likelihood(feature_matrix, sentiment, coefficients):\n",
    "    indicator = (sentiment==+1)\n",
    "    scores = np.dot(feature_matrix, coefficients)\n",
    "    # scores.shape (53072L, 1L)\n",
    "    # indicator.shape (53072L,)\n",
    "    lp = np.sum(((np.array([indicator]))-1)*scores - np.log(1 + np.exp(-scores)))\n",
    "    return lp"
   ]
  },
  {
   "cell_type": "code",
   "execution_count": 83,
   "metadata": {},
   "outputs": [],
   "source": [
    "from math import sqrt\n",
    "def logistic_regression(feature_matrix, sentiment, initial_coefficients, step_size, max_iter):\n",
    "    coefficients = np.array(initial_coefficients) # make sure it's a numpy array\n",
    "    for itr in range(max_iter):\n",
    "        # Predict P(y_i = +1|x_1,w) using your predict_probability() function\n",
    "        # YOUR CODE HERE\n",
    "        predictions = predict_probability(feature_matrix, coefficients)\n",
    "\n",
    "        # Compute indicator value for (y_i = +1)\n",
    "        indicator = (sentiment==+1)\n",
    "\n",
    "        # Compute the errors as indicator - predictions\n",
    "        errors = indicator - predictions\n",
    "\n",
    "        for j in range(len(coefficients)): # loop over each coefficient\n",
    "            # Recall that feature_matrix[:,j] is the feature column associated with coefficients[j]\n",
    "            # compute the derivative for coefficients[j]. Save it in a variable called derivative\n",
    "            # YOUR CODE HERE\n",
    "            derivative =  feature_derivative(errors, feature_matrix[:,j])\n",
    "\n",
    "            # add the step size times the derivative to the current coefficient\n",
    "            # YOUR CODE HERE\n",
    "            coefficients[j] += step_size*derivative \n",
    "\n",
    "        # Checking whether log likelihood is increasing\n",
    "        if itr <= 15 or (itr <= 100 and itr % 10 == 0) or (itr <= 1000 and itr % 100 == 0) \\\n",
    "        or (itr <= 10000 and itr % 1000 == 0) or itr % 10000 == 0:\n",
    "            lp = compute_log_likelihood(feature_matrix, sentiment, coefficients)\n",
    "            print('iteration %*d: log likelihood of observed labels = %.8f' % \\\n",
    "                (int(np.ceil(np.log10(max_iter))), itr, lp))\n",
    "    return coefficients"
   ]
  },
  {
   "cell_type": "markdown",
   "metadata": {},
   "source": [
    "14. Now, let us run the logistic regression solver with the parameters below:\n",
    "\n",
    "feature_matrix = feature_matrix extracted in #9\n",
    "sentiment = sentiment extracted in #9\n",
    "\n",
    "initial_coefficients = a 194-dimensional vector filled with zeros\n",
    "\n",
    "step_size = 1e-7\n",
    "\n",
    "max_iter = 301\n",
    "\n",
    "Save the returned coefficients to variable coefficients."
   ]
  },
  {
   "cell_type": "code",
   "execution_count": 84,
   "metadata": {},
   "outputs": [
    {
     "data": {
      "text/plain": [
       "(53072, 194)"
      ]
     },
     "execution_count": 84,
     "metadata": {},
     "output_type": "execute_result"
    }
   ],
   "source": [
    "feature_matrix.shape"
   ]
  },
  {
   "cell_type": "code",
   "execution_count": 85,
   "metadata": {},
   "outputs": [],
   "source": [
    "initial_coefficients = np.zeros(194)\n",
    "step_size = 1e-7\n",
    "max_iter = 301\n"
   ]
  },
  {
   "cell_type": "code",
   "execution_count": 86,
   "metadata": {},
   "outputs": [],
   "source": [
    "score = np.dot(feature_matrix, initial_coefficients)"
   ]
  },
  {
   "cell_type": "code",
   "execution_count": 87,
   "metadata": {},
   "outputs": [
    {
     "data": {
      "text/plain": [
       "(53072,)"
      ]
     },
     "execution_count": 87,
     "metadata": {},
     "output_type": "execute_result"
    }
   ],
   "source": [
    "score.shape"
   ]
  },
  {
   "cell_type": "code",
   "execution_count": 97,
   "metadata": {},
   "outputs": [
    {
     "data": {
      "text/plain": [
       "-36786.70716667741"
      ]
     },
     "execution_count": 97,
     "metadata": {},
     "output_type": "execute_result"
    }
   ],
   "source": [
    "compute_log_likelihood(feature_matrix, sentiment, initial_coefficients)"
   ]
  },
  {
   "cell_type": "code",
   "execution_count": 100,
   "metadata": {
    "scrolled": true
   },
   "outputs": [
    {
     "name": "stdout",
     "output_type": "stream",
     "text": [
      "iteration   0: log likelihood of observed labels = -36780.91768478\n",
      "iteration   1: log likelihood of observed labels = -36775.13434712\n",
      "iteration   2: log likelihood of observed labels = -36769.35713564\n",
      "iteration   3: log likelihood of observed labels = -36763.58603240\n",
      "iteration   4: log likelihood of observed labels = -36757.82101962\n",
      "iteration   5: log likelihood of observed labels = -36752.06207964\n",
      "iteration   6: log likelihood of observed labels = -36746.30919497\n",
      "iteration   7: log likelihood of observed labels = -36740.56234821\n",
      "iteration   8: log likelihood of observed labels = -36734.82152213\n",
      "iteration   9: log likelihood of observed labels = -36729.08669961\n",
      "iteration  10: log likelihood of observed labels = -36723.35786366\n",
      "iteration  11: log likelihood of observed labels = -36717.63499744\n",
      "iteration  12: log likelihood of observed labels = -36711.91808422\n",
      "iteration  13: log likelihood of observed labels = -36706.20710739\n",
      "iteration  14: log likelihood of observed labels = -36700.50205049\n",
      "iteration  15: log likelihood of observed labels = -36694.80289716\n",
      "iteration  20: log likelihood of observed labels = -36666.39512033\n",
      "iteration  30: log likelihood of observed labels = -36610.01327118\n",
      "iteration  40: log likelihood of observed labels = -36554.19728365\n",
      "iteration  50: log likelihood of observed labels = -36498.93316099\n",
      "iteration  60: log likelihood of observed labels = -36444.20783914\n",
      "iteration  70: log likelihood of observed labels = -36390.00909449\n",
      "iteration  80: log likelihood of observed labels = -36336.32546144\n",
      "iteration  90: log likelihood of observed labels = -36283.14615871\n",
      "iteration 100: log likelihood of observed labels = -36230.46102347\n",
      "iteration 200: log likelihood of observed labels = -35728.89418769\n",
      "iteration 300: log likelihood of observed labels = -35268.51212683\n"
     ]
    }
   ],
   "source": [
    "coefficients = logistic_regression(feature_matrix, sentiment, initial_coefficients, step_size, max_iter)"
   ]
  },
  {
   "cell_type": "code",
   "execution_count": 102,
   "metadata": {},
   "outputs": [
    {
     "data": {
      "text/plain": [
       "(194,)"
      ]
     },
     "execution_count": 102,
     "metadata": {},
     "output_type": "execute_result"
    }
   ],
   "source": [
    "coefficients.shape"
   ]
  },
  {
   "cell_type": "code",
   "execution_count": 94,
   "metadata": {},
   "outputs": [
    {
     "data": {
      "text/plain": [
       "array([1, 1, 1, ..., 0, 0, 0])"
      ]
     },
     "execution_count": 94,
     "metadata": {},
     "output_type": "execute_result"
    }
   ],
   "source": [
    "predictions = predict_probability(feature_matrix, coefficients)\n",
    "NumPositive = (predictions > 0.5).sum()\n",
    "print NumPositive\n",
    "\n",
    "score = np.dot(feature_matrix, coefficients) # N * 1\n",
    "print (score > 0).sum()\n"
   ]
  },
  {
   "cell_type": "code",
   "execution_count": 103,
   "metadata": {},
   "outputs": [],
   "source": [
    "predictions = predict_probability(feature_matrix, coefficients)"
   ]
  },
  {
   "cell_type": "code",
   "execution_count": 108,
   "metadata": {},
   "outputs": [
    {
     "name": "stdout",
     "output_type": "stream",
     "text": [
      "25126\n"
     ]
    }
   ],
   "source": [
    "num_positive = (predictions>0.5).sum()\n",
    "print(num_positive)"
   ]
  },
  {
   "cell_type": "code",
   "execution_count": 127,
   "metadata": {},
   "outputs": [
    {
     "data": {
      "text/plain": [
       "array([ 1,  1,  1, ..., -1, -1, -1])"
      ]
     },
     "execution_count": 127,
     "metadata": {},
     "output_type": "execute_result"
    }
   ],
   "source": [
    "sentiment"
   ]
  },
  {
   "cell_type": "code",
   "execution_count": 120,
   "metadata": {},
   "outputs": [],
   "source": [
    "predicted = (predictions>0.5)*1"
   ]
  },
  {
   "cell_type": "code",
   "execution_count": 121,
   "metadata": {},
   "outputs": [
    {
     "data": {
      "text/plain": [
       "array([1, 0, 1, ..., 0, 1, 0])"
      ]
     },
     "execution_count": 121,
     "metadata": {},
     "output_type": "execute_result"
    }
   ],
   "source": [
    "predicted"
   ]
  },
  {
   "cell_type": "code",
   "execution_count": 134,
   "metadata": {},
   "outputs": [],
   "source": [
    "correctly_predicted = ((sentiment>=1) == predicted).sum()"
   ]
  },
  {
   "cell_type": "code",
   "execution_count": 135,
   "metadata": {},
   "outputs": [
    {
     "data": {
      "text/plain": [
       "39903"
      ]
     },
     "execution_count": 135,
     "metadata": {},
     "output_type": "execute_result"
    }
   ],
   "source": [
    "correctly_predicted"
   ]
  },
  {
   "cell_type": "code",
   "execution_count": 136,
   "metadata": {},
   "outputs": [],
   "source": [
    "accuracy = correctly_predicted/len(sentiment)"
   ]
  },
  {
   "cell_type": "code",
   "execution_count": 137,
   "metadata": {},
   "outputs": [
    {
     "name": "stdout",
     "output_type": "stream",
     "text": [
      "0.7518653904130238\n"
     ]
    }
   ],
   "source": [
    "print(accuracy)"
   ]
  },
  {
   "cell_type": "code",
   "execution_count": 159,
   "metadata": {},
   "outputs": [
    {
     "name": "stdout",
     "output_type": "stream",
     "text": [
      "correctly predicted : 39903 \n",
      "Total numbers: 53072 \n",
      "accuracy: 0.7518653904130238\n"
     ]
    }
   ],
   "source": [
    "print('correctly predicted : {} \\nTotal numbers: {} \\naccuracy: {}'.format(correctly_predicted, len(sentiment),\\\n",
    "                                                                                  accuracy))"
   ]
  },
  {
   "cell_type": "code",
   "execution_count": 177,
   "metadata": {},
   "outputs": [
    {
     "data": {
      "text/plain": [
       "(193,)"
      ]
     },
     "execution_count": 177,
     "metadata": {},
     "output_type": "execute_result"
    }
   ],
   "source": [
    "coefficients[1:].shape"
   ]
  },
  {
   "cell_type": "code",
   "execution_count": 180,
   "metadata": {},
   "outputs": [],
   "source": [
    "coefficients = list(coefficients[1:])"
   ]
  },
  {
   "cell_type": "code",
   "execution_count": 182,
   "metadata": {},
   "outputs": [],
   "source": [
    "word_coefficient_tuples = [(word, coefficient) for word, coefficient in zip(important_words, coefficients)]"
   ]
  },
  {
   "cell_type": "code",
   "execution_count": 183,
   "metadata": {
    "scrolled": true
   },
   "outputs": [
    {
     "data": {
      "text/plain": [
       "[('baby', 0.015565696580423503),\n",
       " ('one', -0.008502046745757361),\n",
       " ('great', 0.0665460841704577),\n",
       " ('love', 0.06589076292212326),\n",
       " ('use', 0.0050174388165654124),\n",
       " ('would', -0.05386014844520313),\n",
       " ('like', -0.003504884133335208),\n",
       " ('easy', 0.06479458680257838),\n",
       " ('little', 0.04543562630842137),\n",
       " ('seat', 0.003983533639413615),\n",
       " ('old', 0.020077541034775378),\n",
       " ('well', 0.030135001092107067),\n",
       " ('get', -0.028711552980192585),\n",
       " ('also', 0.015216196422918842),\n",
       " ('really', 0.0002725920624677585),\n",
       " ('son', 0.011944817713693953),\n",
       " ('time', -0.018246193486087036),\n",
       " ('bought', -0.012170641997242545),\n",
       " ('product', -0.04151103339210889),\n",
       " ('good', 0.0027682039063976803),\n",
       " ('daughter', 0.01770319990570169),\n",
       " ('much', -0.004397000674509431),\n",
       " ('loves', 0.04497640139490604),\n",
       " ('stroller', 0.009909164635972734),\n",
       " ('put', 0.0008992390814154653),\n",
       " ('months', -0.001362195157348742),\n",
       " ('car', 0.012685935745813379),\n",
       " ('still', 0.00826466694537446),\n",
       " ('back', -0.027742697230661334),\n",
       " ('used', 0.0006101288089752651),\n",
       " ('recommend', 0.015408450108008665),\n",
       " ('first', -0.013213475301677047),\n",
       " ('even', -0.030051249236035804),\n",
       " ('perfect', 0.02973993710496846),\n",
       " ('nice', 0.018408707995268996),\n",
       " ('bag', 0.0028617875161052074),\n",
       " ('two', -0.010576801537792875),\n",
       " ('using', -0.0006573503620923434),\n",
       " ('got', -0.010147655511657534),\n",
       " ('fit', -0.00479579527809302),\n",
       " ('around', 0.0075089180973143405),\n",
       " ('diaper', 0.004279382890354768),\n",
       " ('enough', 0.003067855012990109),\n",
       " ('month', -0.0022031766056230698),\n",
       " ('price', 0.00957273354359018),\n",
       " ('go', 9.916668274814276e-05),\n",
       " ('could', -0.01984625666077721),\n",
       " ('soft', 0.01757027224560289),\n",
       " ('since', 0.0015547861236921187),\n",
       " ('buy', -0.01773754399721805),\n",
       " ('room', 0.009783241021568061),\n",
       " ('works', 0.011703160621987424),\n",
       " ('made', -0.007353459369094525),\n",
       " ('child', -0.006087140302347556),\n",
       " ('keep', 0.006437668081870188),\n",
       " ('size', 0.010715966516270298),\n",
       " ('small', -0.003053454759330871),\n",
       " ('need', 0.007171907270027092),\n",
       " ('year', 0.005733200028487891),\n",
       " ('big', 0.004606618761970606),\n",
       " ('make', -0.005205884210607157),\n",
       " ('take', 0.0067101233146641725),\n",
       " ('easily', 0.009032818138954405),\n",
       " ('think', 0.0017456314732199937),\n",
       " ('crib', 0.006002799788638706),\n",
       " ('clean', 0.012018174433365525),\n",
       " ('way', -0.01835946066294569),\n",
       " ('quality', -0.006910108112146036),\n",
       " ('thing', -0.013868727265297583),\n",
       " ('better', -0.015040658977043393),\n",
       " ('without', 0.005923536113220274),\n",
       " ('set', 0.005674789908056569),\n",
       " ('new', -0.005287862195972152),\n",
       " ('every', 0.003081478639854043),\n",
       " ('cute', 0.005537512364059029),\n",
       " ('best', 0.014991791565630266),\n",
       " ('bottles', -0.0003356660003498171),\n",
       " ('work', -0.03306951529475273),\n",
       " ('purchased', -0.004789909428673403),\n",
       " ('right', -0.0064136885850504775),\n",
       " ('lot', 0.007999389349248329),\n",
       " ('side', -0.0008613904437686892),\n",
       " ('happy', 0.016805295889768077),\n",
       " ('comfortable', 0.0132539900815849),\n",
       " ('toy', 0.0017230705102314367),\n",
       " ('able', 0.002980306750661262),\n",
       " ('kids', 0.008582843004346528),\n",
       " ('bit', 0.011708248093123262),\n",
       " ('night', 0.002808259066683148),\n",
       " ('long', 0.002187240162161943),\n",
       " ('fits', 0.01688247107140872),\n",
       " ('see', -0.004659737406888564),\n",
       " ('us', 0.0015136828514065372),\n",
       " ('another', -0.01095091216964983),\n",
       " ('play', 0.00917842898398431),\n",
       " ('day', -0.0001885722805001116),\n",
       " ('money', -0.03898203728648711),\n",
       " ('monitor', -0.02448210054589172),\n",
       " ('tried', -0.018702371424325837),\n",
       " ('thought', -0.02139434854368248),\n",
       " ('never', -0.012969046546319292),\n",
       " ('item', -0.01713786701085479),\n",
       " ('hard', -0.0137566767312614),\n",
       " ('plastic', -0.014977044903587942),\n",
       " ('however', -0.005102879784877109),\n",
       " ('disappointed', -0.028978976142317068),\n",
       " ('reviews', -0.014866319449976984),\n",
       " ('something', -0.01280883802475081),\n",
       " ('going', -0.010770935491004763),\n",
       " ('pump', -0.00695286914906194),\n",
       " ('bottle', -0.005040821636249149),\n",
       " ('cup', -0.009259144043189978),\n",
       " ('waste', -0.024042748071154956),\n",
       " ('return', -0.026592778462247283),\n",
       " ('amazon', -0.001973209371896164),\n",
       " ('different', -0.005041275079058815),\n",
       " ('top', -0.0070079191164656805),\n",
       " ('want', -0.0034808852314084323),\n",
       " ('problem', -0.006409589155003782),\n",
       " ('know', -0.004074970100351705),\n",
       " ('water', -0.006300542962225543),\n",
       " ('try', -0.010918793208793),\n",
       " ('received', -0.01260518995366231),\n",
       " ('sure', -0.0016689531424132927),\n",
       " ('times', -0.007764187808314246),\n",
       " ('chair', -0.0005159604846262286),\n",
       " ('find', -0.0019419955109540173),\n",
       " ('hold', -0.0012476158571719633),\n",
       " ('gate', -0.005012917306197128),\n",
       " ('open', -0.009120491910748273),\n",
       " ('bottom', -0.0072209880120885665),\n",
       " ('away', -0.008317829807696091),\n",
       " ('actually', -0.005605733475251415),\n",
       " ('cheap', -0.014709833465080669),\n",
       " ('worked', -0.009315208191956718),\n",
       " ('getting', -0.0022203440239695676),\n",
       " ('ordered', -0.007075730981647346),\n",
       " ('came', -0.005101156084295061),\n",
       " ('milk', -0.008935728615993479),\n",
       " ('bad', -0.012754571329579798),\n",
       " ('part', -0.007041719908427805),\n",
       " ('worth', -0.0009762196756223379),\n",
       " ('found', 0.0004120917130065562),\n",
       " ('cover', 0.0008292511599959553),\n",
       " ('many', 0.0026466106385121305),\n",
       " ('design', -0.007732287817370993),\n",
       " ('looking', 0.0015347116392846498),\n",
       " ('weeks', -0.0073726305977644116),\n",
       " ('say', -0.00373694385874852),\n",
       " ('wanted', -0.0038141640936843113),\n",
       " ('look', -0.0016457514473845493),\n",
       " ('place', -0.0033188773175082007),\n",
       " ('purchase', 0.0012225783235106365),\n",
       " ('looks', 1.3669928550230818e-05),\n",
       " ('second', -0.003018666010667183),\n",
       " ('piece', -0.010282634317735408),\n",
       " ('box', -0.010669132724912933),\n",
       " ('pretty', 0.0022363904560238454),\n",
       " ('trying', -0.009874247980135876),\n",
       " ('difficult', -0.010219204790778673),\n",
       " ('together', -0.0034133092891886524),\n",
       " ('though', 0.0033448995950862924),\n",
       " ('give', -0.0035098451575682485),\n",
       " ('started', -0.006262831503162306),\n",
       " ('anything', -0.007224199425910095),\n",
       " ('last', -0.005470161541392435),\n",
       " ('company', -0.012506394670958822),\n",
       " ('come', -0.002478056986088658),\n",
       " ('returned', -0.016001798500102516),\n",
       " ('maybe', -0.0064009893446270215),\n",
       " ('took', -0.004266443864014708),\n",
       " ('broke', -0.015537698955653888),\n",
       " ('makes', 0.0023134923740490212),\n",
       " ('stay', -0.00906653337359022),\n",
       " ('instead', -0.006300126718179461),\n",
       " ('idea', -0.012101030310887904),\n",
       " ('head', -0.0030257887493928),\n",
       " ('said', -0.006762897175112025),\n",
       " ('less', -0.005654987222257695),\n",
       " ('went', -0.006870502394402383),\n",
       " ('working', -0.011895059489782872),\n",
       " ('high', -0.00018648923566776305),\n",
       " ('unit', -0.0115230475554972),\n",
       " ('seems', 0.002815332188646533),\n",
       " ('picture', -0.008101502952676016),\n",
       " ('completely', -0.010006213059178752),\n",
       " ('wish', 0.00402037650809975),\n",
       " ('buying', -0.005443003464382597),\n",
       " ('babies', 0.00285818985134274),\n",
       " ('won', 0.00011988500346780872),\n",
       " ('tub', -0.006475876873018088),\n",
       " ('almost', -0.0011449351626316182),\n",
       " ('either', -0.007092059344135139)]"
      ]
     },
     "execution_count": 183,
     "metadata": {},
     "output_type": "execute_result"
    }
   ],
   "source": [
    "word_coefficient_tuples"
   ]
  },
  {
   "cell_type": "code",
   "execution_count": 184,
   "metadata": {},
   "outputs": [],
   "source": [
    "word_coefficient_tuples = sorted(word_coefficient_tuples, key=lambda x:x[1], reverse=True)"
   ]
  },
  {
   "cell_type": "code",
   "execution_count": 190,
   "metadata": {},
   "outputs": [
    {
     "data": {
      "text/plain": [
       "[('great', 0.0665460841704577),\n",
       " ('love', 0.06589076292212326),\n",
       " ('easy', 0.06479458680257838),\n",
       " ('little', 0.04543562630842137),\n",
       " ('loves', 0.04497640139490604),\n",
       " ('well', 0.030135001092107067),\n",
       " ('perfect', 0.02973993710496846),\n",
       " ('old', 0.020077541034775378),\n",
       " ('nice', 0.018408707995268996),\n",
       " ('daughter', 0.01770319990570169)]"
      ]
     },
     "execution_count": 190,
     "metadata": {},
     "output_type": "execute_result"
    }
   ],
   "source": [
    "#most positive words\n",
    "word_coefficient_tuples[:10]"
   ]
  },
  {
   "cell_type": "code",
   "execution_count": 189,
   "metadata": {},
   "outputs": [
    {
     "data": {
      "text/plain": [
       "[('monitor', -0.02448210054589172),\n",
       " ('return', -0.026592778462247283),\n",
       " ('back', -0.027742697230661334),\n",
       " ('get', -0.028711552980192585),\n",
       " ('disappointed', -0.028978976142317068),\n",
       " ('even', -0.030051249236035804),\n",
       " ('work', -0.03306951529475273),\n",
       " ('money', -0.03898203728648711),\n",
       " ('product', -0.04151103339210889),\n",
       " ('would', -0.05386014844520313)]"
      ]
     },
     "execution_count": 189,
     "metadata": {},
     "output_type": "execute_result"
    }
   ],
   "source": [
    "#most negative words\n",
    "word_coefficient_tuples[-10:]"
   ]
  }
 ],
 "metadata": {
  "kernelspec": {
   "display_name": "Python 3",
   "language": "python",
   "name": "python3"
  },
  "language_info": {
   "codemirror_mode": {
    "name": "ipython",
    "version": 3
   },
   "file_extension": ".py",
   "mimetype": "text/x-python",
   "name": "python",
   "nbconvert_exporter": "python",
   "pygments_lexer": "ipython3",
   "version": "3.8.5"
  }
 },
 "nbformat": 4,
 "nbformat_minor": 4
}
